{
 "cells": [
  {
   "cell_type": "code",
   "execution_count": 1,
   "id": "14775406",
   "metadata": {},
   "outputs": [],
   "source": [
    "import sys\n",
    "sys.path.insert(1, '/home/msantolaria/Documents/MyPythonLibrary/ClimAnag/')\n",
    "import climbasis as climb\n",
    "from climbasis import *\n",
    "import domain as dom\n",
    "import myplot"
   ]
  },
  {
   "cell_type": "code",
   "execution_count": 2,
   "id": "b942326b",
   "metadata": {},
   "outputs": [],
   "source": [
    "#resultsDir='/media/maria/MARIAEXT2/WinterTrendsObs/'\n",
    "sourceData='/home/msantolaria/Documents/Data/jra55/jra55/Hist/Monthly/anl_surf125/'"
   ]
  },
  {
   "cell_type": "code",
   "execution_count": 3,
   "id": "a4affce2",
   "metadata": {},
   "outputs": [],
   "source": [
    "fileName='psl_mon.jra55_direct_195801-202401.nc'"
   ]
  },
  {
   "cell_type": "code",
   "execution_count": 4,
   "id": "7dc0015d",
   "metadata": {},
   "outputs": [],
   "source": [
    "variable='psl'\n",
    "ds= xr.open_dataset(sourceData+'/'+fileName,decode_times=False)[variable]\n",
    "ds=dom.shifting_grid(ds)\n",
    "ds=ds/100\n",
    "units='hPa'"
   ]
  },
  {
   "cell_type": "code",
   "execution_count": 5,
   "id": "6b7a821f",
   "metadata": {},
   "outputs": [
    {
     "name": "stdout",
     "output_type": "stream",
     "text": [
      "<xarray.DataArray 'psl' (time: 793, lat: 145, lon: 288)>\n",
      "array([[[1009.60397039, 1009.60397039, 1009.60397039, ...,\n",
      "         1009.60397039, 1009.60397039, 1009.60397039],\n",
      "        [1009.85397044, 1009.82272043, 1009.79147042, ...,\n",
      "         1009.85397044, 1009.85397044, 1009.85397044],\n",
      "        [1006.94771983, 1006.76021979, 1006.76021979, ...,\n",
      "         1007.04146985, 1006.94771983, 1006.94771983],\n",
      "        ...,\n",
      "        [1017.26022198, 1017.26022198, 1017.26022198, ...,\n",
      "         1017.22897198, 1017.26022198, 1017.26022198],\n",
      "        [1015.72897166, 1015.76022167, 1015.76022167, ...,\n",
      "         1015.72897166, 1015.72897166, 1015.72897166],\n",
      "        [1014.22897135, 1014.22897135, 1014.22897135, ...,\n",
      "         1014.22897135, 1014.22897135, 1014.22897135]],\n",
      "\n",
      "       [[1020.42526171, 1020.42526171, 1020.42526171, ...,\n",
      "         1020.42526171, 1020.42526171, 1020.42526171],\n",
      "        [1018.55026131, 1018.53463631, 1018.51901131, ...,\n",
      "         1018.59713632, 1018.55026131, 1018.55026131],\n",
      "        [1013.73776031, 1013.61276028, 1013.59713528, ...,\n",
      "         1013.84713533, 1013.75338531, 1013.75338531],\n",
      "...\n",
      "        [1017.08932351, 1017.0268235 , 1017.0268235 , ...,\n",
      "         1017.08932351, 1017.08932351, 1017.08932351],\n",
      "        [1017.21432354, 1017.21432354, 1017.18307353, ...,\n",
      "         1017.24557354, 1017.21432354, 1017.21432354],\n",
      "        [1017.27682355, 1017.27682355, 1017.27682355, ...,\n",
      "         1017.27682355, 1017.27682355, 1017.27682355]],\n",
      "\n",
      "       [[1009.45406801, 1009.45406801, 1009.45406801, ...,\n",
      "         1009.45406801, 1009.45406801, 1009.45406801],\n",
      "        [1008.89156789, 1008.86031789, 1008.82906788, ...,\n",
      "         1008.89156789, 1008.89156789, 1008.89156789],\n",
      "        [1004.39156695, 1004.20406692, 1004.20406692, ...,\n",
      "         1004.54781699, 1004.42281696, 1004.42281696],\n",
      "        ...,\n",
      "        [1014.92281915, 1014.95406916, 1014.95406916, ...,\n",
      "         1014.82906913, 1014.89156914, 1014.92281915],\n",
      "        [1014.36031903, 1014.36031903, 1014.39156904, ...,\n",
      "         1014.32906903, 1014.36031903, 1014.36031903],\n",
      "        [1013.79781892, 1013.79781892, 1013.79781892, ...,\n",
      "         1013.79781892, 1013.79781892, 1013.79781892]]])\n",
      "Coordinates:\n",
      "  * lat      (lat) float64 -90.0 -88.75 -87.5 -86.25 ... 86.25 87.5 88.75 90.0\n",
      "  * time     (time) float64 0.0 1.0 2.0 3.0 4.0 ... 789.0 790.0 791.0 792.0\n",
      "  * lon      (lon) float64 -178.8 -177.5 -176.2 -175.0 ... 177.5 178.8 180.0\n"
     ]
    }
   ],
   "source": [
    "print(ds)"
   ]
  },
  {
   "cell_type": "code",
   "execution_count": 6,
   "id": "4fb90658",
   "metadata": {},
   "outputs": [
    {
     "name": "stdout",
     "output_type": "stream",
     "text": [
      "DatetimeIndex(['1958-01-31', '1958-02-28', '1958-03-31', '1958-04-30',\n",
      "               '1958-05-31', '1958-06-30', '1958-07-31', '1958-08-31',\n",
      "               '1958-09-30', '1958-10-31',\n",
      "               ...\n",
      "               '2023-04-30', '2023-05-31', '2023-06-30', '2023-07-31',\n",
      "               '2023-08-31', '2023-09-30', '2023-10-31', '2023-11-30',\n",
      "               '2023-12-31', '2024-01-31'],\n",
      "              dtype='datetime64[ns]', length=793, freq='M')\n"
     ]
    }
   ],
   "source": [
    "iyr=1958;imon=1\n",
    "fyr=2024;fmon=2\n",
    "time_ar=pd.date_range(start=str(iyr)+'-'+str(imon),end=str(fyr)+'-'+str(fmon),freq='M')\n",
    "\n",
    "print(time_ar)"
   ]
  },
  {
   "cell_type": "code",
   "execution_count": 7,
   "id": "f71f9855",
   "metadata": {},
   "outputs": [
    {
     "name": "stdout",
     "output_type": "stream",
     "text": [
      "psl_mon.jra55_xar_195801-202401.nc finished saving\n"
     ]
    }
   ],
   "source": [
    "ofileName='psl_mon.jra55_xar_195801-202401.nc'\n",
    "\n",
    "dsX= xr.DataArray(data=ds.values,dims=[\"time\",\"lat\",\"lon\"],\n",
    "                  coords=[time_ar,ds.lat,ds.lon])\n",
    "dsX.name= variable\n",
    "#dsX.attrs['long_name'] ='shifted time %s'%(str(shift))\n",
    "dsX.attrs['units'] = 'hPa'\n",
    "#new_filenameX = sourceData+ofileName\n",
    "dsX.to_netcdf(path='/home/msantolaria/Documents/Data/jra55/'+ofileName)\n",
    "dsX.close()\n",
    "print (ofileName,'finished saving')"
   ]
  },
  {
   "cell_type": "code",
   "execution_count": null,
   "id": "a43a60d8",
   "metadata": {},
   "outputs": [],
   "source": []
  },
  {
   "cell_type": "code",
   "execution_count": null,
   "id": "8ebbd612",
   "metadata": {},
   "outputs": [],
   "source": []
  }
 ],
 "metadata": {
  "kernelspec": {
   "display_name": "Python 3 (ipykernel)",
   "language": "python",
   "name": "python3"
  },
  "language_info": {
   "codemirror_mode": {
    "name": "ipython",
    "version": 3
   },
   "file_extension": ".py",
   "mimetype": "text/x-python",
   "name": "python",
   "nbconvert_exporter": "python",
   "pygments_lexer": "ipython3",
   "version": "3.9.12"
  }
 },
 "nbformat": 4,
 "nbformat_minor": 5
}
