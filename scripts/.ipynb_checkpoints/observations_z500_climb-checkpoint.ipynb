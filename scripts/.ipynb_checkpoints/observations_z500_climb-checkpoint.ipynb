{
 "cells": [
  {
   "cell_type": "code",
   "execution_count": 1,
   "id": "cross-nursing",
   "metadata": {},
   "outputs": [],
   "source": [
    "import sys\n",
    "#sys.path.insert(1, '/home/msantola/MyPythonLibrary/AnalysisObservations/libobs/')\n",
    "sys.path.insert(1, '/home/msantola/MyPythonLibrary/ClimAnag/libhma/')\n",
    "import climbasis as climb\n",
    "from climbasis import *\n",
    "import domain as dom\n",
    "import myplot\n",
    "import glob"
   ]
  },
  {
   "cell_type": "code",
   "execution_count": 2,
   "id": "informational-techno",
   "metadata": {},
   "outputs": [],
   "source": [
    "#source='/home/msantolaria/Documents/MyResearch/HMA-ClimAnalogs/Observations/\n",
    "#resultsDir=source + 'Results/'\n",
    "#plotsDir=source + 'Plots/'"
   ]
  },
  {
   "cell_type": "code",
   "execution_count": 3,
   "id": "final-devon",
   "metadata": {},
   "outputs": [],
   "source": [
    "sourceData='/data/msantola/obs/'"
   ]
  },
  {
   "cell_type": "code",
   "execution_count": 4,
   "id": "united-recovery",
   "metadata": {},
   "outputs": [],
   "source": [
    "iyr=1982\n",
    "fyr=2014"
   ]
  },
  {
   "cell_type": "code",
   "execution_count": 5,
   "id": "cutting-people",
   "metadata": {},
   "outputs": [],
   "source": [
    "variable='z500'\n",
    "domain='MA'\n",
    "season='DJF'"
   ]
  },
  {
   "cell_type": "code",
   "execution_count": 6,
   "id": "super-klein",
   "metadata": {},
   "outputs": [
    {
     "name": "stdout",
     "output_type": "stream",
     "text": [
      "m**2 s**-2\n"
     ]
    }
   ],
   "source": [
    "model1='eraint'\n",
    "filename1 = 'Z500_mon.eraint_197901_201908.nc'\n",
    "ds1 = xr.open_dataset(sourceData+model1+'/'+filename1)['z']\n",
    "print(ds1.units)\n",
    "ds1=ds1[:,0,:,:]/9.8\n",
    "field1=dom.field_dom(ds1,domain)"
   ]
  },
  {
   "cell_type": "code",
   "execution_count": 7,
   "id": "partial-provincial",
   "metadata": {},
   "outputs": [
    {
     "data": {
      "text/plain": [
       "1"
      ]
     },
     "execution_count": 7,
     "metadata": {},
     "output_type": "execute_result"
    }
   ],
   "source": [
    "#latlim=slice(60,10)\n",
    "#lonlim=slice(40,130)\n",
    "1"
   ]
  },
  {
   "cell_type": "code",
   "execution_count": 8,
   "id": "collect-tsunami",
   "metadata": {},
   "outputs": [],
   "source": [
    "#model2=str('era5')\n",
    "#filename2 = 'Z500_mon.era5_195001_202105_interp.nc'\n",
    "#ds2 = xr.open_dataset(sourceData+model2+'/'+filename2)['z']\n",
    "#ds2=ds2[:,0,:,:]/9.8\n",
    "#field2=dom.field_dom(ds2,domain)"
   ]
  },
  {
   "cell_type": "code",
   "execution_count": 10,
   "id": "stainless-tiffany",
   "metadata": {},
   "outputs": [
    {
     "name": "stdout",
     "output_type": "stream",
     "text": [
      "<xarray.DataArray 'gh' (time: 761, lat: 73, lon: 144)>\n",
      "[7999632 values with dtype=float64]\n",
      "Coordinates:\n",
      "  * lon      (lon) float64 0.0 2.5 5.0 7.5 10.0 ... 350.0 352.5 355.0 357.5\n",
      "  * lat      (lat) float64 90.0 87.5 85.0 82.5 80.0 ... -82.5 -85.0 -87.5 -90.0\n",
      "    lev      float64 5e+04\n",
      "  * time     (time) datetime64[ns] 1958-01-01 1958-02-01 ... 2021-05-01\n",
      "Attributes:\n",
      "    long_name:  Geopotential Height\n",
      "    units:      gpm\n",
      "    code:       7\n",
      "    table:      200\n"
     ]
    }
   ],
   "source": [
    "model3=str('jra55')\n",
    "filename3 = 'Z500_mon.jra55_195801_202105.nc'\n",
    "ds3 = xr.open_dataset(sourceData+model3+'/'+filename3)['gh']\n",
    "ds3=ds3[:,0,:,:]\n",
    "print(ds3)\n",
    "field3=dom.field_dom(ds3,domain)"
   ]
  },
  {
   "cell_type": "code",
   "execution_count": 11,
   "id": "first-bookmark",
   "metadata": {},
   "outputs": [],
   "source": [
    "#model4=str('ncep-ncar')\n",
    "#filename4 = 'Z500_mon.ncep-ncar_194801_202105.nc'\n",
    "#ds4 = xr.open_dataset(sourceData+filename4)['hgt']\n",
    "#ds4=ds4[:,0,:,:]\n",
    "#field4=dom.field_dom(ds4,domain)"
   ]
  },
  {
   "cell_type": "code",
   "execution_count": 12,
   "id": "ceca469b",
   "metadata": {},
   "outputs": [],
   "source": [
    "model5=str('noaaV2c')\n",
    "filename5 = 'hgt.mon.mean.noaaV2c_185101-201412.nc'\n",
    "ds5 = xr.open_dataset(sourceData+model5+'/'+filename5)['hgt']\n",
    "level=500\n",
    "ds5=ds5.sel(level=500)#ds4[:,0,:,:]\n",
    "field5=dom.field_dom(ds5,domain)"
   ]
  },
  {
   "cell_type": "code",
   "execution_count": null,
   "id": "meaning-consensus",
   "metadata": {},
   "outputs": [],
   "source": [
    "iyr=1982\n",
    "fyr=2014\n",
    "valsList=[]\n",
    "anomsList=[]\n",
    "\n",
    "\n",
    "dsList=[field1,field3,field5]\n",
    "modelList=[model1,model3,model5]\n",
    "\n",
    "for elem in dsList:\n",
    "    \n",
    "    v,a=climb.seasonal_selection(elem,season,iyr,fyr)\n",
    "    valsList.append(v)\n",
    "    anomsList.append(a)\n"
   ]
  },
  {
   "cell_type": "code",
   "execution_count": null,
   "id": "peaceful-vector",
   "metadata": {},
   "outputs": [],
   "source": [
    "parList=[]\n",
    "trendList=[]\n",
    "interceptList=[]\n",
    "rvalueList=[]\n",
    "pvalueList=[]\n",
    "stderrList=[]\n",
    "nyrList=[]\n",
    "#---------------------------------------------------------\n",
    "for elem in anomsList:\n",
    "    #par=climb.spatial_regression(elem,index)\n",
    "    par=climb.trend_vect(elem.time,elem,'time')\n",
    "    parList.append(par)\n",
    "    nyrList.append(len(elem.time))\n",
    "    trendList.append(par[0])\n",
    "    interceptList.append(par[1])\n",
    "    rvalueList.append(par[2])\n",
    "    pvalueList.append(par[3])\n",
    "    stderrList.append(par[4])\n",
    "df=fyr-iyr"
   ]
  },
  {
   "cell_type": "code",
   "execution_count": null,
   "id": "listed-speaking",
   "metadata": {},
   "outputs": [],
   "source": [
    "#LabelListX=[model1,model2,model3,model4]\n",
    "#LabelListY=[str(iyr1)+'-'+str(fyr1),'','',str(iyr2)+'-'+str(fyr2),'','',str(iyr3)+'-'+str(fyr3),'','']"
   ]
  },
  {
   "cell_type": "code",
   "execution_count": null,
   "id": "patent-circuit",
   "metadata": {},
   "outputs": [],
   "source": [
    "climList=[]\n",
    "stdList=[]\n",
    "for elem in valsList:\n",
    "    c=elem.mean('time')\n",
    "    s=elem.std('time')\n",
    "    climList.append(c)\n",
    "    stdList.append(s)"
   ]
  },
  {
   "cell_type": "code",
   "execution_count": null,
   "id": "a7c51bd1",
   "metadata": {},
   "outputs": [],
   "source": [
    "plotList=climList\n",
    "clevs=np.arange(5000,6000,50);levs_ticks=clevs \n",
    "cmap='Blues'\n",
    "nrows=2\n",
    "ncols=2 \n",
    "\n",
    "fig, axs = plt.subplots(nrows=nrows,ncols=ncols,\n",
    "                        subplot_kw={'projection': ccrs.PlateCarree()},figsize=(20,20))\n",
    "axs=axs.flatten()\n",
    "for i in np.arange(0,len(plotList),1):\n",
    "    lons, lats = np.meshgrid(plotList[i].coords[plotList[i].dims[1]],plotList[i].coords[plotList[i].dims[0]])\n",
    "    CS1=axs[i].contourf(lons,lats,plotList[i][:,:],clevs,transform=ccrs.PlateCarree(),cmap=cmap,extend='both')\n",
    "    axs[i].coastlines(color='grey')\n",
    "    axs[i].set_title(modelList[i])#,x=0.025,y=0.93,backgroundcolor= 'white')\n",
    "    gl = axs[i].gridlines(crs=ccrs.PlateCarree(), draw_labels=True,\n",
    "                          linewidth=2, color='gray', alpha=0.1, linestyle=':')\n",
    "    gl.xlabels_top = False\n",
    "    if (i% 2) == 0:\n",
    "        gl.ylabels_right = False\n",
    "    else:\n",
    "        gl.ylabels_right = True\n",
    "        gl.ylabels_left = False\n",
    "\n",
    "    fig.subplots_adjust(bottom=0.38, top=0.84, left=0.10, right=0.90,wspace=0.010, hspace=0.001)\n",
    "axs[3].remove()   \n",
    "\n",
    "cbar_ax = fig.add_axes([0.3, 0.36, 0.4, 0.012])\n",
    "\n",
    "cbar=fig.colorbar(CS1, cax=cbar_ax,ticks=levs_ticks,orientation='horizontal',label=units)\n",
    "\n",
    "#plotname='FIG3_GRL_COAFuture'\n",
    "#plt.savefig(plotsDir+plotname+'.png',format='png',bbox_inches='tight')\n",
    "plt.show()"
   ]
  },
  {
   "cell_type": "code",
   "execution_count": null,
   "id": "19b506b0",
   "metadata": {},
   "outputs": [],
   "source": [
    "\n",
    "plotList=stdList\n",
    "clevs=np.arange(10,34,2);levs_ticks=clevs \n",
    "cmap='rainbow'\n",
    "nrows=2\n",
    "ncols=2 \n",
    "\n",
    "fig, axs = plt.subplots(nrows=nrows,ncols=ncols,\n",
    "                        subplot_kw={'projection': ccrs.PlateCarree()},figsize=(20,20))\n",
    "axs=axs.flatten()\n",
    "for i in np.arange(0,len(plotList),1):\n",
    "    lons, lats = np.meshgrid(plotList[i].coords[plotList[i].dims[1]],plotList[i].coords[plotList[i].dims[0]])\n",
    "    CS1=axs[i].contourf(lons,lats,plotList[i][:,:],clevs,transform=ccrs.PlateCarree(),cmap=cmap,extend='both')\n",
    "    axs[i].coastlines(color='grey')\n",
    "    axs[i].set_title(modelList[i])#,x=0.025,y=0.93,backgroundcolor= 'white')\n",
    "    gl = axs[i].gridlines(crs=ccrs.PlateCarree(), draw_labels=True,\n",
    "                          linewidth=2, color='gray', alpha=0.1, linestyle=':')\n",
    "    gl.xlabels_top = False\n",
    "    if (i% 2) == 0:\n",
    "        gl.ylabels_right = False\n",
    "    else:\n",
    "        gl.ylabels_right = True\n",
    "        gl.ylabels_left = False\n",
    "\n",
    "    fig.subplots_adjust(bottom=0.38, top=0.84, left=0.10, right=0.90,wspace=0.010, hspace=0.001)\n",
    "axs[3].remove()   \n",
    "\n",
    "cbar_ax = fig.add_axes([0.3, 0.36, 0.4, 0.012])\n",
    "\n",
    "cbar=fig.colorbar(CS1, cax=cbar_ax,ticks=levs_ticks,orientation='horizontal',label=units)\n",
    "\n",
    "#plotname='FIG3_GRL_COAFuture'\n",
    "#plt.savefig(plotsDir+plotname+'.png',format='png',bbox_inches='tight')\n",
    "plt.show()"
   ]
  },
  {
   "cell_type": "code",
   "execution_count": null,
   "id": "4a26ca44",
   "metadata": {},
   "outputs": [],
   "source": [
    "plotList=parList\n",
    "clevs=np.arange(-10,11,1);levs_ticks=clevs \n",
    "cmap='RdBu_r'\n",
    "nrows=2\n",
    "ncols=2 \n",
    "\n",
    "fig, axs = plt.subplots(nrows=nrows,ncols=ncols,\n",
    "                        subplot_kw={'projection': ccrs.PlateCarree()},figsize=(20,20))\n",
    "axs=axs.flatten()\n",
    "for i in np.arange(0,len(plotList),1):\n",
    "    lons, lats = np.meshgrid(plotList[i][0].coords[plotList[i][0].dims[1]],plotList[i][0].coords[plotList[i][0].dims[0]])\n",
    "    CS1=axs[i].contourf(lons,lats,10*plotList[i][0][:,:],clevs,transform=ccrs.PlateCarree(),cmap=cmap,extend='both')\n",
    "    levels=[0,0.1,1.0]\n",
    "    cs = axs[i].contourf(lons,lats,plotList[i][3][:,:], transform=ccrs.PlateCarree(),levels=levels,\n",
    "                hatches=[\"+\", \"\"], alpha=0.)\n",
    "\n",
    "    axs[i].coastlines(color='grey')\n",
    "    axs[i].set_title(modelList[i])#,x=0.025,y=0.93,backgroundcolor= 'white')\n",
    "    gl = axs[i].gridlines(crs=ccrs.PlateCarree(), draw_labels=True,\n",
    "                          linewidth=2, color='gray', alpha=0.1, linestyle=':')\n",
    "    gl.xlabels_top = False\n",
    "    if (i% 2) == 0:\n",
    "        gl.ylabels_right = False\n",
    "    else:\n",
    "        gl.ylabels_right = True\n",
    "        gl.ylabels_left = False\n",
    "\n",
    "    fig.subplots_adjust(bottom=0.38, top=0.84, left=0.10, right=0.90,wspace=0.010, hspace=0.001)\n",
    "axs[3].remove()   \n",
    "\n",
    "cbar_ax = fig.add_axes([0.3, 0.36, 0.4, 0.012])\n",
    "\n",
    "cbar=fig.colorbar(CS1, cax=cbar_ax,ticks=levs_ticks,orientation='horizontal',label=units)\n",
    "\n",
    "#plotname='FIG3_GRL_COAFuture'\n",
    "#plt.savefig(plotsDir+plotname+'.png',format='png',bbox_inches='tight')\n",
    "plt.show()\n"
   ]
  },
  {
   "cell_type": "code",
   "execution_count": null,
   "id": "983404a5",
   "metadata": {},
   "outputs": [],
   "source": []
  },
  {
   "cell_type": "code",
   "execution_count": null,
   "id": "5ac59a62",
   "metadata": {},
   "outputs": [],
   "source": []
  },
  {
   "cell_type": "code",
   "execution_count": null,
   "id": "conscious-shame",
   "metadata": {},
   "outputs": [],
   "source": []
  }
 ],
 "metadata": {
  "kernelspec": {
   "display_name": "Python 3 (ipykernel)",
   "language": "python",
   "name": "python3"
  },
  "language_info": {
   "codemirror_mode": {
    "name": "ipython",
    "version": 3
   },
   "file_extension": ".py",
   "mimetype": "text/x-python",
   "name": "python",
   "nbconvert_exporter": "python",
   "pygments_lexer": "ipython3",
   "version": "3.9.12"
  }
 },
 "nbformat": 4,
 "nbformat_minor": 5
}
