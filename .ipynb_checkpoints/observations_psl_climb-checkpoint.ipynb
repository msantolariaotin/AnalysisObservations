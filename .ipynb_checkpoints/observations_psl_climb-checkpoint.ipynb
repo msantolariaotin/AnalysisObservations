{
 "cells": [
  {
   "cell_type": "code",
   "execution_count": 1,
   "id": "cross-nursing",
   "metadata": {},
   "outputs": [
    {
     "ename": "ModuleNotFoundError",
     "evalue": "No module named 'cartopy'",
     "output_type": "error",
     "traceback": [
      "\u001b[0;31m---------------------------------------------------------------------------\u001b[0m",
      "\u001b[0;31mModuleNotFoundError\u001b[0m                       Traceback (most recent call last)",
      "Input \u001b[0;32mIn [1]\u001b[0m, in \u001b[0;36m<cell line: 3>\u001b[0;34m()\u001b[0m\n\u001b[1;32m      1\u001b[0m \u001b[38;5;28;01mimport\u001b[39;00m \u001b[38;5;21;01msys\u001b[39;00m\n\u001b[1;32m      2\u001b[0m sys\u001b[38;5;241m.\u001b[39mpath\u001b[38;5;241m.\u001b[39minsert(\u001b[38;5;241m1\u001b[39m, \u001b[38;5;124m'\u001b[39m\u001b[38;5;124m/home/msantolaria/Documents/MyPythonLibrary/ClimAnag/\u001b[39m\u001b[38;5;124m'\u001b[39m)\n\u001b[0;32m----> 3\u001b[0m \u001b[38;5;28;01mimport\u001b[39;00m \u001b[38;5;21;01mclimbasis\u001b[39;00m \u001b[38;5;28;01mas\u001b[39;00m \u001b[38;5;21;01mclimb\u001b[39;00m\n\u001b[1;32m      4\u001b[0m \u001b[38;5;28;01mfrom\u001b[39;00m \u001b[38;5;21;01mclimbasis\u001b[39;00m \u001b[38;5;28;01mimport\u001b[39;00m \u001b[38;5;241m*\u001b[39m\n\u001b[1;32m      5\u001b[0m \u001b[38;5;28;01mimport\u001b[39;00m \u001b[38;5;21;01mdomain\u001b[39;00m \u001b[38;5;28;01mas\u001b[39;00m \u001b[38;5;21;01mdom\u001b[39;00m\n",
      "File \u001b[0;32m~/Documents/MyPythonLibrary/ClimAnag/climbasis.py:7\u001b[0m, in \u001b[0;36m<module>\u001b[0;34m\u001b[0m\n\u001b[1;32m      1\u001b[0m \u001b[38;5;66;03m#!/usr/bin/env python3\u001b[39;00m\n\u001b[1;32m      2\u001b[0m \u001b[38;5;66;03m# -*- coding: utf-8 -*-\u001b[39;00m\n\u001b[1;32m      3\u001b[0m \n\u001b[1;32m      4\u001b[0m \u001b[38;5;66;03m# Autopep8: https://pypi.org/project/autopep8/\u001b[39;00m\n\u001b[1;32m      5\u001b[0m \u001b[38;5;66;03m# Check with http://pep8online.com/\u001b[39;00m\n\u001b[1;32m      6\u001b[0m \u001b[38;5;66;03m##Plotting\u001b[39;00m\n\u001b[0;32m----> 7\u001b[0m \u001b[38;5;28;01mimport\u001b[39;00m \u001b[38;5;21;01mcartopy\u001b[39;00m\u001b[38;5;21;01m.\u001b[39;00m\u001b[38;5;21;01mcrs\u001b[39;00m \u001b[38;5;28;01mas\u001b[39;00m \u001b[38;5;21;01mccrs\u001b[39;00m\n\u001b[1;32m      8\u001b[0m \u001b[38;5;28;01mimport\u001b[39;00m \u001b[38;5;21;01mcartopy\u001b[39;00m\u001b[38;5;21;01m.\u001b[39;00m\u001b[38;5;21;01mfeature\u001b[39;00m \u001b[38;5;28;01mas\u001b[39;00m \u001b[38;5;21;01mcfeature\u001b[39;00m\n\u001b[1;32m      9\u001b[0m \u001b[38;5;28;01mfrom\u001b[39;00m \u001b[38;5;21;01mcartopy\u001b[39;00m\u001b[38;5;21;01m.\u001b[39;00m\u001b[38;5;21;01mmpl\u001b[39;00m\u001b[38;5;21;01m.\u001b[39;00m\u001b[38;5;21;01mgridliner\u001b[39;00m \u001b[38;5;28;01mimport\u001b[39;00m LONGITUDE_FORMATTER, LATITUDE_FORMATTER\n",
      "\u001b[0;31mModuleNotFoundError\u001b[0m: No module named 'cartopy'"
     ]
    }
   ],
   "source": [
    "import sys\n",
    "sys.path.insert(1, '/home/msantolaria/Documents/MyPythonLibrary/ClimAnag/')\n",
    "import climbasis as climb\n",
    "from climbasis import *\n",
    "import domain as dom\n",
    "import myplot\n",
    "import glob"
   ]
  },
  {
   "cell_type": "code",
   "execution_count": null,
   "id": "f7e5d06e",
   "metadata": {},
   "outputs": [],
   "source": [
    "from eofs.xarray import Eof"
   ]
  },
  {
   "cell_type": "code",
   "execution_count": null,
   "id": "informational-techno",
   "metadata": {},
   "outputs": [],
   "source": [
    "source='/home/msantolaria/Documents/MyResearch/HMA-ClimAnalogs/Observations/'\n",
    "resultsDir=source + 'Results/'\n",
    "plotsDir=source + 'Plots/'"
   ]
  },
  {
   "cell_type": "code",
   "execution_count": null,
   "id": "final-devon",
   "metadata": {},
   "outputs": [],
   "source": [
    "#resultsDir='/media/maria/MARIAEXT2/WinterTrendsObs/'\n",
    "sourceData='/home/msantolaria/Documents/Data/'"
   ]
  },
  {
   "cell_type": "code",
   "execution_count": null,
   "id": "aware-focus",
   "metadata": {},
   "outputs": [],
   "source": [
    "#!ls /home/maria/Documents/Data/HadSLP2/"
   ]
  },
  {
   "cell_type": "code",
   "execution_count": null,
   "id": "ahead-introduction",
   "metadata": {},
   "outputs": [],
   "source": [
    "variable='slp'\n",
    "units='hPa'\n",
    "domain='MA'\n",
    "season='DJF'\n",
    "iyr=1982\n",
    "fyr=2014"
   ]
  },
  {
   "cell_type": "code",
   "execution_count": null,
   "id": "super-klein",
   "metadata": {},
   "outputs": [],
   "source": [
    "model1='hadslp2'\n",
    "filename1 = 'slp.mon_hadslp2_newtime_185001-201912.nc'\n",
    "ds1 = xr.open_dataset(sourceData+model1+'/'+filename1)['slp']\n",
    "print(ds1.units)\n",
    "\n",
    "#ds1 = ds1.assign_coords(longitude=(((ds1.longitude + 180) % 360) - 180))\n",
    "#ds1 = ds1.roll(longitude=int(len(ds1['longitude']) / 2), roll_coords=True)\n",
    "#field1=dom.field_dom(ds1,domain)"
   ]
  },
  {
   "cell_type": "code",
   "execution_count": null,
   "id": "56ae7f82",
   "metadata": {},
   "outputs": [],
   "source": [
    "ds1"
   ]
  },
  {
   "cell_type": "code",
   "execution_count": null,
   "id": "collect-tsunami",
   "metadata": {},
   "outputs": [],
   "source": [
    "model2=str('noaaV2c')\n",
    "filename2 = 'prmsl_only.mon.mean.noaaV2c_185101-201412_2.0x2.0.nc'\n",
    "ds2 = xr.open_dataset(sourceData+model2+'/'+filename2)['prmsl']\n",
    "ds2 = ds2.assign_coords(lon=(((ds2.lon+ 180) % 360) - 180))\n",
    "ds2 = ds2.roll(lon=int(len(ds2['lon']) / 2), roll_coords=True)\n",
    "#print(ds1.units)\n",
    "ds2=ds2/100\n",
    "field2=dom.field_dom(ds2,domain)"
   ]
  },
  {
   "cell_type": "code",
   "execution_count": null,
   "id": "stainless-tiffany",
   "metadata": {},
   "outputs": [],
   "source": [
    "model3=str('noaaV3')\n",
    "filename3 = 'prmsl_only.mon.mean.noaaV3_185101-201412_1.0x1.0.nc'\n",
    "ds3 = xr.open_dataset(sourceData+model3+'/'+filename3)['prmsl']\n",
    "ds3 = ds3.assign_coords(lon=(((ds3.lon+ 180) % 360) - 180))\n",
    "ds3 = ds3.roll(lon=int(len(ds3['lon']) / 2), roll_coords=True)\n",
    "#print(ds1.units)\n",
    "ds3=ds3/100\n",
    "field3=dom.field_dom(ds3,domain)"
   ]
  },
  {
   "cell_type": "code",
   "execution_count": null,
   "id": "1b971c81",
   "metadata": {},
   "outputs": [],
   "source": [
    "model4=str('era5')\n",
    "filename4='mslp_era5_NH_mon_1979-2020.nc'\n",
    "ds4 = xr.open_dataset(sourceData+model4+'/'+filename4)['msl']\n",
    "#print(ds1.units)\n",
    "ds4=ds4/100\n",
    "field4=dom.field_dom(ds4,domain)\n"
   ]
  },
  {
   "cell_type": "code",
   "execution_count": null,
   "id": "777abc30",
   "metadata": {},
   "outputs": [],
   "source": [
    "model5=str('eraint')\n",
    "filename5='mslp.mon.eraint_197901_201512.nc'\n",
    "ds5 = xr.open_dataset(sourceData+model5+'/'+filename5)['msl']\n",
    "#print(ds1.units)\n",
    "ds5 = ds5.assign_coords(longitude=(((ds5.longitude+ 180) % 360) - 180))\n",
    "ds5 = ds5.roll(longitude=int(len(ds5['longitude']) / 2), roll_coords=True)\n",
    "ds5=ds5/100\n",
    "field5=dom.field_dom(ds5,domain)\n"
   ]
  },
  {
   "cell_type": "code",
   "execution_count": null,
   "id": "5092f1d3",
   "metadata": {},
   "outputs": [],
   "source": [
    "model6=str('ncep-ncar')\n",
    "filename6='slp.mon.mean.ncep-ncar_194801-202203.nc'\n",
    "ds6 = xr.open_dataset(sourceData+model6+'/'+filename6)['slp']\n",
    "#print(ds1.units)\n",
    "ds6 = ds6.assign_coords(lon=(((ds6.lon+ 180) % 360) - 180))\n",
    "ds6 = ds6.roll(lon=int(len(ds6['lon']) / 2), roll_coords=True)\n",
    "field6=dom.field_dom(ds6,domain)"
   ]
  },
  {
   "cell_type": "code",
   "execution_count": null,
   "id": "conscious-shame",
   "metadata": {},
   "outputs": [],
   "source": [
    "dsList=[field1,field2,field3,field4,field5,field6]\n",
    "modelList=[model1,model2,model3,model4,model5,model6]"
   ]
  },
  {
   "cell_type": "code",
   "execution_count": null,
   "id": "magnetic-stretch",
   "metadata": {},
   "outputs": [],
   "source": [
    "valsList=[]\n",
    "anomsList=[]\n",
    "\n",
    "for elem in dsList:\n",
    "    if season[0]=='D':\n",
    "        print('Winter',iyr,'-',iyr+1,fyr-1,'-',fyr)\n",
    "        vals,anoms=climb.seasonal_selection(elem,season,6,iyr,6,fyr)\n",
    "    else:\n",
    "        vals,anoms=climb.seasonal_selection(elem,season,1,iyr,12,fyr)\n",
    "    valsList.append(vals)\n",
    "    anomsList.append(anoms)"
   ]
  },
  {
   "cell_type": "code",
   "execution_count": null,
   "id": "heavy-venture",
   "metadata": {},
   "outputs": [],
   "source": [
    "climList=[]\n",
    "stdList=[]\n",
    "for elem in valsList:\n",
    "    c=elem.mean('time')\n",
    "    s=elem.std('time')\n",
    "    climList.append(c)\n",
    "    stdList.append(s)"
   ]
  },
  {
   "cell_type": "code",
   "execution_count": null,
   "id": "knowing-lender",
   "metadata": {},
   "outputs": [],
   "source": [
    "parList=[]\n",
    "trendList=[]\n",
    "interceptList=[]\n",
    "rvalueList=[]\n",
    "pvalueList=[]\n",
    "stderrList=[]\n",
    "#---------------------------------------------------------\n",
    "for elem in anomsList:\n",
    "    par=climb.trend_vect(elem.time,elem,'time')\n",
    "    parList.append(par)\n",
    "    trendList.append(par[0])\n",
    "    interceptList.append(par[1])\n",
    "    rvalueList.append(par[2])\n",
    "    pvalueList.append(par[3])\n",
    "    stderrList.append(par[4])\n"
   ]
  },
  {
   "cell_type": "code",
   "execution_count": null,
   "id": "massive-infection",
   "metadata": {},
   "outputs": [],
   "source": [
    "##Clim-----------------\n",
    "clevs=np.arange(996,1034,2)\n",
    "color='seismic'\n",
    "subdomain=domain\n",
    "exp='obs'\n",
    "decomp='original'\n",
    "for i in range(len(climList)):\n",
    "    lat,lon=climb.latlon(climList[i])\n",
    "    figclim=myplot.oneplot_ds(variable=variable, decomp=decomp, exp=exp, model=modelList[i], clevs=clevs, color=color, units=units, subdomain=subdomain, ds=climList[i], xlon=climList[i][lon], ylat=climList[i][lat], season=season, iyr=iyr, fyr=fyr,extent=False)\n",
    "    ofileC='clim_'+variable+'_'+modelList[i]+'_'+exp+'_'+decomp+'_'+domain+'_'+season+'_'+str(iyr)+'_'+str(fyr)\n",
    "    figclim.savefig(plotsDir+ofileC+'.png',format='png')\n",
    "    print('Figure save at ',plotsDir, 'as',ofileC)"
   ]
  },
  {
   "cell_type": "code",
   "execution_count": null,
   "id": "written-implementation",
   "metadata": {},
   "outputs": [],
   "source": [
    "##STD-----------------\n",
    "clevs=np.arange(0,4.2,0.2)\n",
    "color='rainbow'\n",
    "exp='obs'\n",
    "decomp='original'\n",
    "for i in range(len(stdList)):\n",
    "    lat,lon=climb.latlon(stdList[i])\n",
    "    figstd=myplot.oneplot_ds(variable=variable, decomp=decomp, exp=exp, model=modelList[i], clevs=clevs, color=color, units=units, subdomain=subdomain, ds=stdList[i], xlon=climList[i][lon], ylat=climList[i][lat], season=season, iyr=iyr, fyr=fyr,extent=False)\n",
    "    ofileS='anoms_std_'+variable+'_'+modelList[i]+'_'+exp+'_'+decomp+'_'+domain+'_'+season+'_'+str(iyr)+'_'+str(fyr)\n",
    "    figstd.savefig(plotsDir+ofileS+'.png',format='png')\n",
    "    print('Figure save at ',plotsDir, 'as',ofileS)"
   ]
  },
  {
   "cell_type": "code",
   "execution_count": null,
   "id": "micro-module",
   "metadata": {},
   "outputs": [],
   "source": [
    "clevs=np.arange(-1.5,1.6,0.01)\n",
    "#color='RdBu_r'\n",
    "exp='obs'\n",
    "decomp='original'\n",
    "for i in range(len(parList)):\n",
    "    lat,lon=climb.latlon(trendList[i])\n",
    "    figtrend=myplot.oneplot_trend(variable=variable, decomp=decomp, exp=exp, model=modelList[i], clevs=clevs, units=units, subdomain=subdomain, par=parList[i], xlon=parList[i][0][lon], ylat=parList[i][0][lat], season=season, iyr=iyr, fyr=fyr,extent=False)\n",
    " #   figtrend=myplot.oneplot_trend(oneplot_trend(variable,decomp,exp,modelList[i],clevs,units,subdomain,parList[i],xlon,ylat,season,iyr,fyr))\n",
    "    ofileT='spatialtrend_'+variable+'_'+modelList[i]+'_'+exp+'_'+decomp+'_'+domain+'_'+season+'_'+str(iyr)+'_'+str(fyr)\n",
    "    figtrend.savefig(plotsDir+ofileT+'.png',format='png')\n",
    "    print('Figure save at ',plotsDir, 'as',ofileT)"
   ]
  },
  {
   "cell_type": "code",
   "execution_count": null,
   "id": "54634339",
   "metadata": {},
   "outputs": [],
   "source": []
  },
  {
   "cell_type": "code",
   "execution_count": null,
   "id": "07103f4c",
   "metadata": {},
   "outputs": [],
   "source": []
  },
  {
   "cell_type": "code",
   "execution_count": null,
   "id": "c4f33503",
   "metadata": {},
   "outputs": [],
   "source": []
  },
  {
   "cell_type": "code",
   "execution_count": null,
   "id": "78c9d241",
   "metadata": {},
   "outputs": [],
   "source": []
  },
  {
   "cell_type": "code",
   "execution_count": null,
   "id": "6f9e71f0",
   "metadata": {},
   "outputs": [],
   "source": []
  },
  {
   "cell_type": "code",
   "execution_count": null,
   "id": "d564d86d",
   "metadata": {},
   "outputs": [],
   "source": []
  },
  {
   "cell_type": "code",
   "execution_count": null,
   "id": "f09a94f4",
   "metadata": {},
   "outputs": [],
   "source": []
  },
  {
   "cell_type": "code",
   "execution_count": null,
   "id": "dcd3275f",
   "metadata": {},
   "outputs": [],
   "source": []
  },
  {
   "cell_type": "code",
   "execution_count": null,
   "id": "24b0d115",
   "metadata": {},
   "outputs": [],
   "source": []
  },
  {
   "cell_type": "code",
   "execution_count": null,
   "id": "6fb549c9",
   "metadata": {},
   "outputs": [],
   "source": []
  },
  {
   "cell_type": "code",
   "execution_count": null,
   "id": "c538c386",
   "metadata": {},
   "outputs": [],
   "source": []
  },
  {
   "cell_type": "code",
   "execution_count": null,
   "id": "e5e76fad",
   "metadata": {},
   "outputs": [],
   "source": []
  },
  {
   "cell_type": "code",
   "execution_count": null,
   "id": "a537d9a0",
   "metadata": {},
   "outputs": [],
   "source": []
  }
 ],
 "metadata": {
  "kernelspec": {
   "display_name": "Python 3 (ipykernel)",
   "language": "python",
   "name": "python3"
  },
  "language_info": {
   "codemirror_mode": {
    "name": "ipython",
    "version": 3
   },
   "file_extension": ".py",
   "mimetype": "text/x-python",
   "name": "python",
   "nbconvert_exporter": "python",
   "pygments_lexer": "ipython3",
   "version": "3.8.10"
  }
 },
 "nbformat": 4,
 "nbformat_minor": 5
}
