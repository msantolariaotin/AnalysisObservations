{
 "cells": [
  {
   "cell_type": "code",
   "execution_count": null,
   "id": "cd2e45fb",
   "metadata": {},
   "outputs": [
    {
     "name": "stdout",
     "output_type": "stream",
     "text": [
      "{'var': 'uwnd', 'filename': 'uwnd.10m.mon.mean.noaaV2c_185101-201412.nc', 'units': 'm/s', 'gridlon': '0_360', 'gridlat': '90_-90'}\n",
      "{'var': 'uwnd', 'filename': 'uwnd.10m.mon.mean.noaaV2c_185101-201412.nc', 'units': 'm/s', 'gridlon': '0_360', 'gridlat': '90_-90'}\n"
     ]
    }
   ],
   "source": [
    "import sys\n",
    "sys.path.insert(1, '/home/msantolaria/Documents/MyPythonLibrary/ClimAnag/')\n",
    "import climbasis as climb\n",
    "from climbasis import *\n",
    "import domain as dom\n",
    "import myplot\n",
    "import glob\n",
    "from eofs.xarray import Eof\n",
    "from myplot import *\n",
    "import obsinfo as obs\n",
    "from obsinfo import *\n",
    "\n",
    "\n",
    "\n",
    "\n",
    "\n",
    "source='/home/msantolaria/Documents/MyResearch/AnalysisObservations/'\n",
    "resultsDir=source + 'Results/'\n",
    "plotsDir=source + 'Plots/'\n",
    "\n",
    "sourceData='/home/msantolaria/Documents/Data/'\n",
    "\n",
    "\n",
    "iyr=1960\n",
    "fyr=2014\n",
    "\n",
    "domain='NH'#sys.argv[2]\n",
    "season='JJA'#sys.argv[1]#'DJF'\n",
    "exp='obs'\n",
    "\n",
    "model='noaaV2c'\n",
    "variable='uwnd'\n",
    "info=obs.get_obs(variable,model)\n",
    "\n",
    "print(info)\n",
    "fileName='uwnd.mon.mean.noaaV2_185101-201412.nc'\n",
    "ds= xr.open_dataset(sourceData+model+'/'+fileName)[variable]\n",
    "# replace all values equal to -1000 with np.nan\n",
    "#ds = ds_fill[variable].where(ds_fill[variable] != -1000.)\n",
    "ds=dom.shifting_grid(ds)\n",
    "lat,lon=climb.latlon(ds)\n",
    "ylat=ds.coords[lat]\n",
    "xlon=ds.coords[lon]\n",
    "unit=ds.units\n",
    "field=dom.field_dom(ds,domain)\n"
   ]
  },
  {
   "cell_type": "code",
   "execution_count": null,
   "id": "ae7bc34c",
   "metadata": {},
   "outputs": [],
   "source": [
    "ds.time"
   ]
  },
  {
   "cell_type": "code",
   "execution_count": null,
   "id": "95b1e027",
   "metadata": {},
   "outputs": [],
   "source": []
  }
 ],
 "metadata": {
  "kernelspec": {
   "display_name": "Python 3 (ipykernel)",
   "language": "python",
   "name": "python3"
  },
  "language_info": {
   "codemirror_mode": {
    "name": "ipython",
    "version": 3
   },
   "file_extension": ".py",
   "mimetype": "text/x-python",
   "name": "python",
   "nbconvert_exporter": "python",
   "pygments_lexer": "ipython3",
   "version": "3.9.12"
  }
 },
 "nbformat": 4,
 "nbformat_minor": 5
}
