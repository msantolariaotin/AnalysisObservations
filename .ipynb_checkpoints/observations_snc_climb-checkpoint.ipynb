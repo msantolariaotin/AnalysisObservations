{
 "cells": [
  {
   "cell_type": "code",
   "execution_count": 1,
   "id": "cross-nursing",
   "metadata": {},
   "outputs": [],
   "source": [
    "import sys\n",
    "sys.path.insert(1, '/home/msantolaria/Documents/MyPythonLibrary/ClimAnag/')\n",
    "import climbasis as climb\n",
    "from climbasis import *\n",
    "import domain as dom\n",
    "import numpy.ma as ma\n",
    "import myplot\n",
    "import glob"
   ]
  },
  {
   "cell_type": "code",
   "execution_count": 2,
   "id": "superior-austria",
   "metadata": {},
   "outputs": [],
   "source": [
    "source='/home/msantolaria/Documents/MyResearch/HMA-ClimAnalogs/Observations/'\n",
    "resultsDirT=source+'SpatialTrend/'\n",
    "plotsDir=source+'Plots/'"
   ]
  },
  {
   "cell_type": "code",
   "execution_count": 3,
   "id": "muslim-communications",
   "metadata": {},
   "outputs": [],
   "source": [
    "sourceData='/home/msantolaria/Documents/Data/'\n",
    "sourceData1=sourceData+'noaaV2c/'\n",
    "sourceData2=sourceData+'noaacdr/'\n",
    "sourceData3=sourceData+'esacci/'"
   ]
  },
  {
   "cell_type": "code",
   "execution_count": 4,
   "id": "annual-ethics",
   "metadata": {},
   "outputs": [],
   "source": [
    "#! ls /home/msantolaria/Documents/Data/ESACCI/"
   ]
  },
  {
   "cell_type": "code",
   "execution_count": 5,
   "id": "monthly-velvet",
   "metadata": {},
   "outputs": [],
   "source": [
    "domain='MA'\n",
    "season='DJF'\n",
    "iyr=1984\n",
    "imon=1\n",
    "fyr=2014\n",
    "fmon=12\n",
    "variable='snc'\n",
    "unit='%'"
   ]
  },
  {
   "cell_type": "markdown",
   "id": "12749ca3",
   "metadata": {},
   "source": [
    "domain3='HMA'\n",
    "model3='esacci'\n",
    "fileName3='ESACCI-L3C_SNOW-SCFG-AVHRR_MERGED-fv1.0_HKH_gapfilled_icefilled_montlhy_1982-2014.nc'\n",
    "ds3= xr.open_dataset(sourceData3+fileName3)['snc']\n",
    "units3='%'\n",
    "#print(ds0Y.units,'to',unitsY)\n",
    "vals,anoms=climb.seasonal_selection(elem,season,6,iyr,6,fyr)\n",
    "field3=dom.field_dom(ds3.sel(time=slice(str(iyr)+\"-\"+str(imon), str(fyr)+\"-\"+str(fmon))),domain3)\n",
    "ylat3=field3.coords['lat']\n",
    "xlon3=field3.coords['lon']\n",
    "\n",
    "\n",
    "print('field3 shape',field3.shape)\n"
   ]
  },
  {
   "cell_type": "code",
   "execution_count": 11,
   "id": "aggressive-fluid",
   "metadata": {
    "scrolled": true
   },
   "outputs": [
    {
     "name": "stdout",
     "output_type": "stream",
     "text": [
      "%\n",
      "MA latS,latN,lonW,lonE: slice(60, 10, None) slice(40, 130, None)\n",
      "Domain;latS,latN,lonW,lonE: MA 10 60 40 130\n"
     ]
    }
   ],
   "source": [
    "model1='noaaV2c'\n",
    "fileName1='snowc.mon.noaaV2c_185101_201412_2.0x1.75.nc'\n",
    "data1='noaaV2c'\n",
    "ds1 = xr.open_dataset(sourceData1+fileName1)['snowc']\n",
    "unit1=ds1.units\n",
    "print(unit1)\n",
    "field1=dom.field_dom(ds1,domain)\n",
    "xlon1=field1.lon\n",
    "ylat1=field1.lat"
   ]
  },
  {
   "cell_type": "code",
   "execution_count": 12,
   "id": "909a6422",
   "metadata": {},
   "outputs": [
    {
     "name": "stdout",
     "output_type": "stream",
     "text": [
      "30\n",
      "(D- 1984  JF- 1985  to D- 2013 JF- 2014\n"
     ]
    }
   ],
   "source": [
    "vals1,anoms1=climb.seasonal_selection(field1,season,6,iyr,6,fyr)"
   ]
  },
  {
   "cell_type": "code",
   "execution_count": 6,
   "id": "entertaining-parts",
   "metadata": {},
   "outputs": [
    {
     "name": "stdout",
     "output_type": "stream",
     "text": [
      "MA latS,latN,lonW,lonE: slice(60, 10, None) slice(40, 130, None)\n",
      "Domain;latS,latN,lonW,lonE: MA 10 60 40 130\n"
     ]
    }
   ],
   "source": [
    "model2='noaaCDR'\n",
    "fileName2='nhsce_mon.v01r01_19661004_20210503_1.0x1.0.nc'\n",
    "#Opening file\n",
    "data2='noaaCDR'\n",
    "ds2 = xr.open_dataset(sourceData2+fileName2)['snow_cover_extent']\n",
    "#print(ds2.units)\n",
    "ds2=100*ds2\n",
    "field2=dom.field_dom(ds2,domain)\n",
    "xlon2=field2.lon\n",
    "ylat2=field2.lat\n"
   ]
  },
  {
   "cell_type": "code",
   "execution_count": 9,
   "id": "372d7705",
   "metadata": {},
   "outputs": [
    {
     "data": {
      "text/plain": [
       "<matplotlib.collections.QuadMesh at 0x7f0417b6ba30>"
      ]
     },
     "execution_count": 9,
     "metadata": {},
     "output_type": "execute_result"
    },
    {
     "data": {
      "image/png": "[encoded data removed]",
      "text/plain": [
       "<Figure size 432x288 with 2 Axes>"
      ]
     },
     "metadata": {
      "needs_background": "light"
     },
     "output_type": "display_data"
    }
   ],
   "source": [
    "ds2[0,:,:].plot()\n"
   ]
  },
  {
   "cell_type": "code",
   "execution_count": null,
   "id": "constant-toilet",
   "metadata": {},
   "outputs": [],
   "source": [
    "season=''"
   ]
  },
  {
   "cell_type": "code",
   "execution_count": null,
   "id": "confidential-sewing",
   "metadata": {},
   "outputs": [],
   "source": [
    "vals,anoms=climb.seasonal_selection(elem,season,iyr,fyr)\n",
    "  "
   ]
  },
  {
   "cell_type": "code",
   "execution_count": null,
   "id": "294df848",
   "metadata": {},
   "outputs": [],
   "source": [
    "vals3,anoms3=climb.seasonal_selection(field3,season,6,iyr,6,fyr)"
   ]
  },
  {
   "cell_type": "code",
   "execution_count": null,
   "id": "b5285931",
   "metadata": {},
   "outputs": [],
   "source": [
    "def trend_vect2(x,y,dim):\n",
    "    '''\n",
    "    Compute the spatial trend vectorized, instead of grid by grid.\n",
    "    ex:\n",
    "    par=trend_vect(vals.time,vals,'time')\n",
    "\n",
    "    Source:https://stackoverflow.com/questions/52094320/with-xarray-how-to-parallelize-1d-operations-on-a-multidimensional-dataset\n",
    "    https://github.com/mickaellalande/MC-Toolkit/blob/master/conda_environment_xarray_xesmf_proplot/xarray/advanced-analysis.ipynb\n",
    "    \n",
    "    You can also use a loop on lon/lat but way longer!-> spatial_regression() #esta es una funcion mia\n",
    "    '''\n",
    "    print('trend-0','intercept-1','rvalue-2','pvalue-3','stderr-4')\n",
    "    return xr.apply_ufunc(\n",
    "        stats.mstats.linregress, x, y,\n",
    "        input_core_dims=[[dim], [dim]],\n",
    "        output_core_dims=[[], [], [], [], []],\n",
    "        vectorize=True\n",
    "    )"
   ]
  },
  {
   "cell_type": "code",
   "execution_count": null,
   "id": "blocked-graham",
   "metadata": {},
   "outputs": [],
   "source": [
    "p3=trend_vect2(vals3.time,vals3,'time')"
   ]
  },
  {
   "cell_type": "code",
   "execution_count": null,
   "id": "a47ef8ad",
   "metadata": {},
   "outputs": [],
   "source": [
    "p3[0]"
   ]
  },
  {
   "cell_type": "code",
   "execution_count": null,
   "id": "material-sight",
   "metadata": {},
   "outputs": [],
   "source": [
    "parList=[]\n",
    "trendList=[]\n",
    "interceptList=[]\n",
    "rvalueList=[]\n",
    "pvalueList=[]\n",
    "stderrList=[]\n",
    "#---------------------------------------------------------\n",
    "for elem in anomsList:\n",
    "    par=climb.trend_vect(elem.time,elem,'time')\n",
    "    parList.append(par)\n",
    "    trendList.append(par[0])\n",
    "    interceptList.append(par[1])\n",
    "    rvalueList.append(par[2])\n",
    "    pvalueList.append(par[3])\n",
    "    stderrList.append(par[4])\n"
   ]
  },
  {
   "cell_type": "code",
   "execution_count": null,
   "id": "925b15d5",
   "metadata": {},
   "outputs": [],
   "source": []
  },
  {
   "cell_type": "code",
   "execution_count": null,
   "id": "636978c1",
   "metadata": {},
   "outputs": [],
   "source": [
    "climb.show(trend_vect)"
   ]
  },
  {
   "cell_type": "code",
   "execution_count": null,
   "id": "b89df770",
   "metadata": {},
   "outputs": [],
   "source": [
    "par3=climb.trend_vect(vals3.time,vals3,'time')"
   ]
  },
  {
   "cell_type": "code",
   "execution_count": null,
   "id": "8d247fdd",
   "metadata": {},
   "outputs": [],
   "source": [
    "par3[0].plot()"
   ]
  },
  {
   "cell_type": "code",
   "execution_count": null,
   "id": "fantastic-samba",
   "metadata": {},
   "outputs": [],
   "source": [
    "climList=[]\n",
    "stdList=[]\n",
    "for elem in valsList:\n",
    "    c=elem.mean('time')\n",
    "    s=elem.std('time')\n",
    "    climList.append(c)\n",
    "    stdList.append(s)"
   ]
  },
  {
   "cell_type": "code",
   "execution_count": null,
   "id": "781b5776",
   "metadata": {},
   "outputs": [],
   "source": [
    "clim3=vals3.mean('time')\n",
    "std3=vals3.std('time')"
   ]
  },
  {
   "cell_type": "code",
   "execution_count": null,
   "id": "ef4e316d",
   "metadata": {},
   "outputs": [],
   "source": [
    "clim3.plot()"
   ]
  },
  {
   "cell_type": "code",
   "execution_count": null,
   "id": "administrative-hormone",
   "metadata": {},
   "outputs": [],
   "source": [
    "##Clim-----------------\n",
    "clevs=np.arange(0,110,10)\n",
    "units='%'\n",
    "color='YlGnBu'\n",
    "subdomain='MA'\n",
    "exp='obs'\n",
    "decomp='original'\n",
    "for i in range(len(climList)):\n",
    "    lat,lon=climb.latlon(climList[i])\n",
    "    figclim=myplot.oneplot_ds(variable=variable, decomp=decomp, exp=exp, model=modelList[i], clevs=clevs, color=color, units=units, subdomain=subdomain, ds=climList[i], xlon=climList[i][lon], ylat=climList[i][lat], season=season, iyr=iyr, fyr=fyr)\n",
    "    ofileC='clim_'+variable+'_'+modelList[i]+'_'+exp+'_'+decomp+'_'+domain+'_'+season+'_'+str(iyr)+'_'+str(fyr)\n",
    "    figclim.savefig(plotsDir+ofileC+'.png',format='png')\n",
    "    print('Figure save at ',plotsDir, 'as',ofileC)"
   ]
  },
  {
   "cell_type": "code",
   "execution_count": null,
   "id": "chicken-evaluation",
   "metadata": {},
   "outputs": [],
   "source": [
    "##Clim-----------------\n",
    "clevs=np.arange(0,45,5)\n",
    "color='rainbow'\n",
    "subdomain='MA'\n",
    "exp='obs'\n",
    "decomp='original'\n",
    "for i in range(len(stdList)):\n",
    "    lat,lon=climb.latlon(stdList[i])\n",
    "    figstd=myplot.oneplot_ds(variable=variable, decomp=decomp, exp=exp, model=modelList[i], clevs=clevs, color=color, units=units, subdomain=subdomain, ds=stdList[i], xlon=climList[i][lon], ylat=climList[i][lat], season=season, iyr=iyr, fyr=fyr)\n",
    "    ofileS='anoms_std_'+variable+'_'+modelList[i]+'_'+exp+'_'+decomp+'_'+domain+'_'+season+'_'+str(iyr)+'_'+str(fyr)\n",
    "    figstd.savefig(plotsDir+ofileS+'.png',format='png')\n",
    "    print('Figure save at ',plotsDir, 'as',ofileS)"
   ]
  },
  {
   "cell_type": "code",
   "execution_count": null,
   "id": "statutory-charleston",
   "metadata": {},
   "outputs": [],
   "source": [
    "clevs=np.arange(-25,30,5)\n",
    "#color='RdBu_r'\n",
    "subdomain='MA'\n",
    "exp='obs'\n",
    "decomp='original'\n",
    "for i in range(len(parList)):\n",
    "    lat,lon=climb.latlon(trendList[i])\n",
    "    figtrend=myplot.oneplot_trend(variable=variable, decomp=decomp, exp=exp, model=modelList[i], clevs=clevs, units=units, subdomain=subdomain, par=parList[i], xlon=parList[i][0][lon], ylat=parList[i][0][lat], season=season, iyr=iyr, fyr=fyr)\n",
    " #   figtrend=myplot.oneplot_trend(oneplot_trend(variable,decomp,exp,modelList[i],clevs,units,subdomain,parList[i],xlon,ylat,season,iyr,fyr))\n",
    "    ofileT='spatialtrend_'+variable+'_'+modelList[i]+'_'+exp+'_'+decomp+'_'+domain+'_'+season+'_'+str(iyr)+'_'+str(fyr)\n",
    "    figtrend.savefig(plotsDir+ofileT+'.png',format='png')\n",
    "    print('Figure save at ',plotsDir, 'as',ofileT)"
   ]
  },
  {
   "cell_type": "code",
   "execution_count": null,
   "id": "round-farmer",
   "metadata": {},
   "outputs": [],
   "source": []
  },
  {
   "cell_type": "code",
   "execution_count": null,
   "id": "accepting-express",
   "metadata": {},
   "outputs": [],
   "source": []
  },
  {
   "cell_type": "code",
   "execution_count": null,
   "id": "filled-logistics",
   "metadata": {},
   "outputs": [],
   "source": []
  },
  {
   "cell_type": "code",
   "execution_count": null,
   "id": "polyphonic-observer",
   "metadata": {
    "scrolled": true
   },
   "outputs": [],
   "source": [
    "coords2D={anoms3.dims[1]: anoms3.coords[anoms3.dims[1]],anoms3.dims[2]: anoms3.coords[anoms3.dims[2]]}\n",
    "zero2D= xr.DataArray(np.zeros((anoms3.shape[1],anoms3.shape[2])),coords=coords2D,dims=[anoms3.dims[1],anoms3.dims[2]])\n",
    "\n",
    "trend3=xr.zeros_like(zero2D)\n",
    "intercept3=xr.zeros_like(zero2D)\n",
    "rvalue3=xr.zeros_like(zero2D)\n",
    "pvalue3=xr.zeros_like(zero2D)\n",
    "stderr3=xr.zeros_like(zero2D)\n",
    "\n",
    "par3=[]\n",
    "for j in range(anoms3.shape[1]):\n",
    "    for i in range(anoms3.shape[2]):\n",
    "        if np.isnan(anoms3[:,j,i].values).all()==True:\n",
    "            trend3[j,i]=np.nan\n",
    "            intercept3[j,i]=np.nan\n",
    "            rvalue3[j,i]=np.nan\n",
    "            pvalue3[j,i]=np.nan\n",
    "            stderr3[j,i]=np.nan\n",
    "        else:\n",
    "            Y=anoms3[:,j,i]    \n",
    "            #print(anoms[:,j,i])\n",
    "            Y2=Y[np.logical_not(np.isnan(Y.values))]\n",
    "            X=np.arange(0,len(vals3[:,j,i]),1)\n",
    "            X2=X[np.logical_not(np.isnan(Y.values))]\n",
    "            par=stats.linregress(X2,Y2)\n",
    "            trend3[j,i]=par[0]\n",
    "            intercept3[j,i]=par[1]\n",
    "            rvalue3[j,i]=par[2]\n",
    "            pvalue3[j,i]=par[3]\n",
    "            stderr3[j,i]=par[4]\n",
    "par3=[trend3,intercept3,rvalue3,pvalue3,stderr3]\n",
    "print('0-trend','1-intercept','2-rvalue','3-pvalue','4-stderr')"
   ]
  },
  {
   "cell_type": "code",
   "execution_count": null,
   "id": "grateful-excuse",
   "metadata": {},
   "outputs": [],
   "source": [
    "ds_trend= xr.Dataset(\n",
    "    data_vars=dict(\n",
    "            trend=([field3.dims[1], field3.dims[2]],parspatial3[0].values),\n",
    "            intercept=([field3.dims[1], field3.dims[2]],parspatial3[1].values),\n",
    "            rvalue=([field3.dims[1], field3.dims[2]],parspatial3[2].values),\n",
    "            pvalue=([field3.dims[1],field3.dims[2]],parspatial3[3].values),\n",
    "            stderr=([field3.dims[1],field3.dims[2]],parspatial3[4].values),\n",
    "            ),\n",
    "    coords=dict(\n",
    "            latitude=([field3.dims[1]],field3.coords[field3.dims[1]].values),\n",
    "            longitude=([field3.dims[2]],field3.coords[field3.dims[2]].values),),\n",
    "attrs=dict(description=\"spatial trend\"),\n",
    "        )\n",
    "ofileT='spatialtrend'+'_' +variable+ '.obs'+'_'+season+'_'+model3+'_historical_'+domain+'_'+str(iyr)+'_'+str(fyr)\n",
    "\n",
    "new_filenameT = resultsDirT+ofileT+'.nc'\n",
    "print ('saving to ', new_filenameT)\n",
    "ds_trend.to_netcdf(path=new_filenameT)\n",
    "ds_trend.close()"
   ]
  },
  {
   "cell_type": "code",
   "execution_count": null,
   "id": "composed-characteristic",
   "metadata": {},
   "outputs": [],
   "source": [
    "#t=np.where(trend > 1000,np.nan,trend)"
   ]
  },
  {
   "cell_type": "code",
   "execution_count": null,
   "id": "corrected-volleyball",
   "metadata": {},
   "outputs": [],
   "source": [
    "len(trendList)"
   ]
  },
  {
   "cell_type": "code",
   "execution_count": null,
   "id": "difficult-strategy",
   "metadata": {},
   "outputs": [],
   "source": [
    "trendList.append(trend)\n",
    "pvalueList.append(pvalue)\n"
   ]
  },
  {
   "cell_type": "code",
   "execution_count": null,
   "id": "married-chaos",
   "metadata": {},
   "outputs": [],
   "source": [
    "xList=[xlon1,xlon2,xlon3]\n",
    "yList=[ylat1,ylat2,ylat3]"
   ]
  },
  {
   "cell_type": "code",
   "execution_count": null,
   "id": "separated-clearance",
   "metadata": {},
   "outputs": [],
   "source": [
    "\n",
    "unit='%'\n",
    "clevs=np.arange(-10,11,1)\n",
    "color='bwr_r'\n",
    "models=[model1,model2,model3]\n",
    "nrows=3\n",
    "ncols=1\n",
    "subdomain='HMA'\n",
    "latS,latN,lonW,lonE,latlim,lonlim=dom.coord_domain(subdomain)\n",
    "\n",
    "fig, axs = plt.subplots(nrows=nrows,ncols=ncols,\n",
    "                        subplot_kw={'projection': ccrs.PlateCarree()},figsize=(8,10))\n",
    "\n",
    "axs=axs.flatten()\n",
    "#Loop over all of the models\n",
    "for i in np.arange(0,len(trendList),1):\n",
    "# Contour plot\n",
    "        lons, lats = np.meshgrid(xList[i],yList[i])\n",
    "\n",
    "        CS1=axs[i].contourf(lons,lats, 10*trendList[i],clevs,\n",
    "                transform=ccrs.PlateCarree(),\n",
    "                cmap=color,extent='both')\n",
    "        levels=[0,0.1,1.0]\n",
    "        cs = axs[i].contourf(lons,lats,pvalueList[i], transform=ccrs.PlateCarree(),levels=levels,\n",
    "                hatches=[\"+\", \"\"], alpha=0.)\n",
    "        # Title each subplot with the name of the model\n",
    "        #axs[i].set_title(i+1)\n",
    "        axs[i].text(0.02, 0.01, models[i],\n",
    "        verticalalignment='bottom', horizontalalignment='left',\n",
    "        transform=axs[i].transAxes,\n",
    "        color='black', fontsize=12)\n",
    "        # Draw the coastines for each subplot\n",
    "        axs[i].coastlines()\n",
    "        axs[i].add_feature(cfeature.BORDERS, linestyle=':', alpha=1)\n",
    "        axs[i].add_feature(cfeature.NaturalEarthFeature('physical', 'ocean', '50m', edgecolor='face', facecolor='white'))\n",
    "        axs[i].set_extent([lonW, lonE, latS,latN])\n",
    "\n",
    "        # Longitude and latitude labels\n",
    "        #axs[i].set_xticks(np.arange(lonW+10,lonE,10), crs=ccrs.PlateCarree())\n",
    "        #axs[i].set_yticks(np.arange(latS+5,latN,5), crs=ccrs.PlateCarree())\n",
    "\n",
    "# Delete the unwanted axes\n",
    "#for i in [7,8]:\n",
    " #   fig.delaxes(axs[i])\n",
    "\n",
    "# Adjust the location of the subplots on the page to make room for the colorbar\n",
    "#fig.subplots_adjust(bottom=0.35, top=0.7, left=0.20, right=0.80,\n",
    "#                    wspace=0.05, hspace=0.5)\n",
    "\n",
    "# Add a colorbar axis at the bottom of the graph\n",
    "cbar_ax = fig.add_axes([0.2, 0.05, 0.6, 0.02])\n",
    "# Draw the colorbar\n",
    "cbar=fig.colorbar(CS1, cax=cbar_ax,orientation='horizontal',label='%s $(10yr)^{-1}$'%(unit))\n",
    "# Add a big title at the top\n",
    "\n",
    "plotname='spatialtrend_'+variable+'_obs_'+season+'_historical_'+domain+'_'+str(iyr)+'_'+str(fyr)\n",
    "#plt.suptitle('%s forced %s %s %s %i-%i'%(variable,model,domain,season,iyr,fyr),y=0.90)\n",
    "plt.savefig(plotsDir+plotname+'.png',format='png')\n",
    "#fig.tight_layout()\n",
    "plt.show()\n"
   ]
  },
  {
   "cell_type": "code",
   "execution_count": null,
   "id": "standing-skirt",
   "metadata": {},
   "outputs": [],
   "source": []
  }
 ],
 "metadata": {
  "kernelspec": {
   "display_name": "Python 3 (ipykernel)",
   "language": "python",
   "name": "python3"
  },
  "language_info": {
   "codemirror_mode": {
    "name": "ipython",
    "version": 3
   },
   "file_extension": ".py",
   "mimetype": "text/x-python",
   "name": "python",
   "nbconvert_exporter": "python",
   "pygments_lexer": "ipython3",
   "version": "3.9.12"
  }
 },
 "nbformat": 4,
 "nbformat_minor": 5
}
