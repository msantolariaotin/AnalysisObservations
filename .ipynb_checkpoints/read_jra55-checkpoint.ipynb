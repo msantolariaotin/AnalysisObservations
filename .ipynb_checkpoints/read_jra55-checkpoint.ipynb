{
 "cells": [
  {
   "cell_type": "code",
   "execution_count": 1,
   "id": "d4640249",
   "metadata": {},
   "outputs": [],
   "source": [
    "import sys\n",
    "sys.path.insert(1, '/home/msantolaria/Documents/MyPythonLibrary/ClimAnag/')\n",
    "import climbasis as climb\n",
    "from climbasis import *\n",
    "import domain as dom\n",
    "import myplot"
   ]
  },
  {
   "cell_type": "code",
   "execution_count": 2,
   "id": "1d9db534",
   "metadata": {},
   "outputs": [],
   "source": [
    "#resultsDir='/media/maria/MARIAEXT2/WinterTrendsObs/'\n",
    "sourceData='/home/msantolaria/Documents/Data/jra55/jra55/Hist/Monthly/anl_surf125/'"
   ]
  },
  {
   "cell_type": "code",
   "execution_count": 3,
   "id": "001558fd",
   "metadata": {},
   "outputs": [],
   "source": [
    "fileName='psl_mon.jra55_direct_195801-202401.nc'"
   ]
  },
  {
   "cell_type": "code",
   "execution_count": 4,
   "id": "00ef154d",
   "metadata": {},
   "outputs": [],
   "source": [
    "variable='psl'\n",
    "ds= xr.open_dataset(sourceData+'/'+fileName,decode_times=False)[variable]\n",
    "ds=ds/100\n",
    "units='hPa'"
   ]
  },
  {
   "cell_type": "code",
   "execution_count": 5,
   "id": "e353fab4",
   "metadata": {},
   "outputs": [
    {
     "name": "stdout",
     "output_type": "stream",
     "text": [
      "<xarray.DataArray 'psl' (time: 793, lat: 145, lon: 289)>\n",
      "array([[[1009.60397039, 1009.60397039, 1009.60397039, ...,\n",
      "         1009.60397039, 1009.60397039, 1009.60397039],\n",
      "        [1008.51022016, 1008.51022016, 1008.57272017, ...,\n",
      "         1008.41647014, 1008.51022016, 1008.51022016],\n",
      "        [1007.22896989, 1007.22896989, 1007.54146996, ...,\n",
      "         1006.91646982, 1007.19771988, 1007.22896989],\n",
      "        ...,\n",
      "        [1012.26022094, 1012.26022094, 1012.19772093, ...,\n",
      "         1012.32272095, 1012.26022094, 1012.26022094],\n",
      "        [1013.07272111, 1013.07272111, 1013.07272111, ...,\n",
      "         1013.10397112, 1013.07272111, 1013.07272111],\n",
      "        [1014.22897135, 1014.22897135, 1014.22897135, ...,\n",
      "         1014.22897135, 1014.22897135, 1014.22897135]],\n",
      "\n",
      "       [[1020.42526171, 1020.42526171, 1020.42526171, ...,\n",
      "         1020.42526171, 1020.42526171, 1020.42526171],\n",
      "        [1019.73776156, 1019.73776156, 1019.84713658, ...,\n",
      "         1019.61276154, 1019.73776156, 1019.73776156],\n",
      "        [1018.15963623, 1018.19088624, 1018.64401133, ...,\n",
      "         1017.67526113, 1018.12838623, 1018.15963623],\n",
      "...\n",
      "        [1016.62057341, 1016.62057341, 1016.62057341, ...,\n",
      "         1016.62057341, 1016.62057341, 1016.62057341],\n",
      "        [1017.0580735 , 1017.0580735 , 1017.0580735 , ...,\n",
      "         1017.0580735 , 1017.0580735 , 1017.0580735 ],\n",
      "        [1017.27682355, 1017.27682355, 1017.27682355, ...,\n",
      "         1017.27682355, 1017.27682355, 1017.27682355]],\n",
      "\n",
      "       [[1009.45406801, 1009.45406801, 1009.45406801, ...,\n",
      "         1009.45406801, 1009.45406801, 1009.45406801],\n",
      "        [1008.73531786, 1008.73531786, 1008.79781787, ...,\n",
      "         1008.67281785, 1008.73531786, 1008.73531786],\n",
      "        [1007.79781766, 1007.79781766, 1008.07906772, ...,\n",
      "         1007.45406759, 1007.76656766, 1007.79781766],\n",
      "        ...,\n",
      "        [1012.7665687 , 1012.7665687 , 1012.70406869, ...,\n",
      "         1012.86031872, 1012.7665687 , 1012.7665687 ],\n",
      "        [1013.29781881, 1013.29781881, 1013.26656881, ...,\n",
      "         1013.32906882, 1013.29781881, 1013.29781881],\n",
      "        [1013.79781892, 1013.79781892, 1013.79781892, ...,\n",
      "         1013.79781892, 1013.79781892, 1013.79781892]]])\n",
      "Coordinates:\n",
      "  * lon      (lon) float64 0.0 1.25 2.5 3.75 5.0 ... 356.2 357.5 358.8 360.0\n",
      "  * lat      (lat) float64 -90.0 -88.75 -87.5 -86.25 ... 86.25 87.5 88.75 90.0\n",
      "  * time     (time) float64 0.0 1.0 2.0 3.0 4.0 ... 789.0 790.0 791.0 792.0\n"
     ]
    }
   ],
   "source": [
    "print(ds)"
   ]
  },
  {
   "cell_type": "code",
   "execution_count": 12,
   "id": "1c7b20a8",
   "metadata": {},
   "outputs": [
    {
     "name": "stdout",
     "output_type": "stream",
     "text": [
      "DatetimeIndex(['1958-01-31', '1958-02-28', '1958-03-31', '1958-04-30',\n",
      "               '1958-05-31', '1958-06-30', '1958-07-31', '1958-08-31',\n",
      "               '1958-09-30', '1958-10-31',\n",
      "               ...\n",
      "               '2023-04-30', '2023-05-31', '2023-06-30', '2023-07-31',\n",
      "               '2023-08-31', '2023-09-30', '2023-10-31', '2023-11-30',\n",
      "               '2023-12-31', '2024-01-31'],\n",
      "              dtype='datetime64[ns]', length=793, freq='M')\n"
     ]
    }
   ],
   "source": [
    "iyr=1958;imon=1\n",
    "fyr=2024;fmon=2\n",
    "time_ar=pd.date_range(start=str(iyr)+'-'+str(imon),end=str(fyr)+'-'+str(fmon),freq='M')\n",
    "\n",
    "print(time_ar)"
   ]
  },
  {
   "cell_type": "code",
   "execution_count": 13,
   "id": "2501e905",
   "metadata": {},
   "outputs": [
    {
     "name": "stdout",
     "output_type": "stream",
     "text": [
      "psl_mon.jra55_xar_195801-202401.nc finished saving\n"
     ]
    }
   ],
   "source": [
    "ofileName='psl_mon.jra55_xar_195801-202401.nc'\n",
    "\n",
    "dsX= xr.DataArray(data=ds.values,dims=[\"time\",\"lat\",\"lon\"],\n",
    "                  coords=[time_ar,ds.lat,ds.lon])\n",
    "dsX.name= variable\n",
    "#dsX.attrs['long_name'] ='shifted time %s'%(str(shift))\n",
    "dsX.attrs['units'] = 'hPa'\n",
    "#new_filenameX = sourceData+ofileName\n",
    "dsX.to_netcdf(path='/home/msantolaria/Documents/Data/jra55/jra55/Hist/Monthly/anl_surf125/'+ofileName)\n",
    "dsX.close()\n",
    "print (ofileName,'finished saving')"
   ]
  },
  {
   "cell_type": "code",
   "execution_count": null,
   "id": "fdf1e94a",
   "metadata": {},
   "outputs": [],
   "source": []
  },
  {
   "cell_type": "code",
   "execution_count": null,
   "id": "cfefb51c",
   "metadata": {},
   "outputs": [],
   "source": []
  }
 ],
 "metadata": {
  "kernelspec": {
   "display_name": "Python 3 (ipykernel)",
   "language": "python",
   "name": "python3"
  },
  "language_info": {
   "codemirror_mode": {
    "name": "ipython",
    "version": 3
   },
   "file_extension": ".py",
   "mimetype": "text/x-python",
   "name": "python",
   "nbconvert_exporter": "python",
   "pygments_lexer": "ipython3",
   "version": "3.9.12"
  }
 },
 "nbformat": 4,
 "nbformat_minor": 5
}
