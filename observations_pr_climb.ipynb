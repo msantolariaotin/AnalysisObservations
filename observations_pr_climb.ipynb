{
 "cells": [
  {
   "cell_type": "code",
   "execution_count": 1,
   "id": "cross-nursing",
   "metadata": {},
   "outputs": [],
   "source": [
    "\n",
    "import sys\n",
    "sys.path.insert(1, '/home/msantolaria/Documents/MyPythonLibrary/ClimAnag/')\n",
    "import climbasis as climb\n",
    "from climbasis import *\n",
    "import domain as dom\n",
    "import myplot\n",
    "import glob\n",
    "from eofs.xarray import Eof\n",
    "from myplot import *\n",
    "import obsinfo as obs\n",
    "from obsinfo import *\n",
    "\n"
   ]
  },
  {
   "cell_type": "code",
   "execution_count": 2,
   "id": "charged-mason",
   "metadata": {},
   "outputs": [],
   "source": [
    "source='/home/msantolaria/Documents/MyResearch/AnalysisObservations/'\n",
    "resultsDir=source + 'Results/'\n",
    "plotsDir=source + 'Plots/'"
   ]
  },
  {
   "cell_type": "code",
   "execution_count": 3,
   "id": "muslim-communications",
   "metadata": {},
   "outputs": [],
   "source": [
    "sourceData='/home/msantolaria/Documents/Data/'\n",
    "sourceData1=sourceData +'noaaV2c/'\n",
    "sourceData2=sourceData +'era5/'\n",
    "sourceData3=sourceData +'aphro/'\n",
    "sourceData4=sourceData +'gpcc/'\n",
    "sourceData5=sourceData +'cru/'\n",
    "sourceData6=sourceData +'gpcp/'"
   ]
  },
  {
   "cell_type": "code",
   "execution_count": 64,
   "id": "cutting-people",
   "metadata": {},
   "outputs": [],
   "source": [
    "iyr=1951\n",
    "fyr=2015\n",
    "domain='TP'\n",
    "variable='pr'\n",
    "units='mm/day'\n",
    "season='DJF'\n",
    "exp='obs'"
   ]
  },
  {
   "cell_type": "code",
   "execution_count": 65,
   "id": "saved-underground",
   "metadata": {},
   "outputs": [
    {
     "name": "stdout",
     "output_type": "stream",
     "text": [
      "{'long_name': 'daily precipitation analysis interpolated onto 0.25deg grids [mm/day]', 'units': 'mm/day', 'cell_methods': 'time: mean', 'level_description': 'Earth surface'}\n"
     ]
    }
   ],
   "source": [
    "model3='aphro'\n",
    "fileName3='APHRO_mon_MA_025deg_V1101_EXR1.1951-2015.nc'\n",
    "ds3 = xr.open_dataset(sourceData3+fileName3)['precip']\n",
    "field3=dom.field_dom(ds3,domain)\n",
    "print(ds3.attrs)"
   ]
  },
  {
   "cell_type": "code",
   "execution_count": 66,
   "id": "collect-repeat",
   "metadata": {},
   "outputs": [
    {
     "name": "stdout",
     "output_type": "stream",
     "text": [
      "month_length = field0dom.time.dt.days_in_month\n",
      "field=field0dom/month_length\n",
      "{'var': 'precip', 'filename': 'precip.monthly_v2022_1891_2020_10.nc', 'units': 'mm', 'gridlon': '0_360', 'gridlat': '90_-90'}\n",
      "{'var': 'precip', 'filename': 'precip.monthly_v2022_1891_2020_10.nc', 'units': 'mm', 'gridlon': '0_360', 'gridlat': '90_-90'}\n",
      "<xarray.DataArray 'precip' (time: 1560, lat: 180, lon: 360)>\n",
      "[101088000 values with dtype=float32]\n",
      "Coordinates:\n",
      "  * time     (time) datetime64[ns] 1891-01-01 1891-02-01 ... 2020-12-01\n",
      "  * lon      (lon) float64 -179.5 -178.5 -177.5 -176.5 ... 177.5 178.5 179.5\n",
      "  * lat      (lat) float64 89.5 88.5 87.5 86.5 85.5 ... -86.5 -87.5 -88.5 -89.5\n",
      "Attributes:\n",
      "    long_name:    gpcc full data monthly product version 2022, precipitation ...\n",
      "    units:        mm/month\n",
      "    code:         20\n",
      "    institution:  DWD\n"
     ]
    }
   ],
   "source": [
    "data4='gpcc'\n",
    "model4='gpcc'\n",
    "info4=obs.get_obs('precip',data4)\n",
    "print(info4)\n",
    "fileName4=info4.get('filename')\n",
    "ds4= xr.open_dataset(sourceData+data4+'/'+fileName4)['precip']\n",
    "#month_length = ds0.time.dt.days_in_month\n",
    "#\n",
    "#ds=ds0/month_length\n",
    "units='mm'\n",
    "print(ds4)\n",
    "# replace all values equal to -1000 with np.nan\n",
    "#ds = ds_fill[variable].where(ds_fill[variable] != -1000.)\n",
    "if info4.get('gridlon')=='0_360':\n",
    "    ds4=dom.shifting_grid(ds4)\n",
    "lat,lon=climb.latlon(ds4)\n",
    "ylat=ds4.coords[lat]\n",
    "xlon=ds4.coords[lon]\n",
    "\n",
    "\n",
    "field40=dom.field_dom(ds4,domain)\n",
    "\n",
    "month_length = field40.time.dt.days_in_month\n",
    "#\n",
    "field4=field40/month_length"
   ]
  },
  {
   "cell_type": "code",
   "execution_count": 67,
   "id": "8a1531bd",
   "metadata": {},
   "outputs": [
    {
     "name": "stdout",
     "output_type": "stream",
     "text": [
      "{'long_name': 'precipitation', 'units': 'mm/month', 'correlation_decay_distance': 450.0}\n"
     ]
    }
   ],
   "source": [
    "model5='cru'\n",
    "fileName5='cru_ts4.05.1901.2020.pre.dat.nc'\n",
    "ds5 = xr.open_dataset(sourceData5+fileName5)['pre']\n",
    "print(ds5.attrs)\n",
    "\n",
    "field50=dom.field_dom(ds5,domain)\n",
    "\n",
    "month_length = field50.time.dt.days_in_month\n",
    "#\n",
    "field5=field50/month_length"
   ]
  },
  {
   "cell_type": "code",
   "execution_count": 68,
   "id": "ab6bb7b5",
   "metadata": {},
   "outputs": [
    {
     "data": {
      "text/html": [
       "<div><svg style=\"position: absolute; width: 0; height: 0; overflow: hidden\">\n",
       "<defs>\n",
       "<symbol id=\"icon-database\" viewBox=\"0 0 32 32\">\n",
       "<path d=\"M16 0c-8.837 0-16 2.239-16 5v4c0 2.761 7.163 5 16 5s16-2.239 16-5v-4c0-2.761-7.163-5-16-5z\"></path>\n",
       "<path d=\"M16 17c-8.837 0-16-2.239-16-5v6c0 2.761 7.163 5 16 5s16-2.239 16-5v-6c0 2.761-7.163 5-16 5z\"></path>\n",
       "<path d=\"M16 26c-8.837 0-16-2.239-16-5v6c0 2.761 7.163 5 16 5s16-2.239 16-5v-6c0 2.761-7.163 5-16 5z\"></path>\n",
       "</symbol>\n",
       "<symbol id=\"icon-file-text2\" viewBox=\"0 0 32 32\">\n",
       "<path d=\"M28.681 7.159c-0.694-0.947-1.662-2.053-2.724-3.116s-2.169-2.030-3.116-2.724c-1.612-1.182-2.393-1.319-2.841-1.319h-15.5c-1.378 0-2.5 1.121-2.5 2.5v27c0 1.378 1.122 2.5 2.5 2.5h23c1.378 0 2.5-1.122 2.5-2.5v-19.5c0-0.448-0.137-1.23-1.319-2.841zM24.543 5.457c0.959 0.959 1.712 1.825 2.268 2.543h-4.811v-4.811c0.718 0.556 1.584 1.309 2.543 2.268zM28 29.5c0 0.271-0.229 0.5-0.5 0.5h-23c-0.271 0-0.5-0.229-0.5-0.5v-27c0-0.271 0.229-0.5 0.5-0.5 0 0 15.499-0 15.5 0v7c0 0.552 0.448 1 1 1h7v19.5z\"></path>\n",
       "<path d=\"M23 26h-14c-0.552 0-1-0.448-1-1s0.448-1 1-1h14c0.552 0 1 0.448 1 1s-0.448 1-1 1z\"></path>\n",
       "<path d=\"M23 22h-14c-0.552 0-1-0.448-1-1s0.448-1 1-1h14c0.552 0 1 0.448 1 1s-0.448 1-1 1z\"></path>\n",
       "<path d=\"M23 18h-14c-0.552 0-1-0.448-1-1s0.448-1 1-1h14c0.552 0 1 0.448 1 1s-0.448 1-1 1z\"></path>\n",
       "</symbol>\n",
       "</defs>\n",
       "</svg>\n",
       "<style>/* CSS stylesheet for displaying xarray objects in jupyterlab.\n",
       " *\n",
       " */\n",
       "\n",
       ":root {\n",
       "  --xr-font-color0: var(--jp-content-font-color0, rgba(0, 0, 0, 1));\n",
       "  --xr-font-color2: var(--jp-content-font-color2, rgba(0, 0, 0, 0.54));\n",
       "  --xr-font-color3: var(--jp-content-font-color3, rgba(0, 0, 0, 0.38));\n",
       "  --xr-border-color: var(--jp-border-color2, #e0e0e0);\n",
       "  --xr-disabled-color: var(--jp-layout-color3, #bdbdbd);\n",
       "  --xr-background-color: var(--jp-layout-color0, white);\n",
       "  --xr-background-color-row-even: var(--jp-layout-color1, white);\n",
       "  --xr-background-color-row-odd: var(--jp-layout-color2, #eeeeee);\n",
       "}\n",
       "\n",
       "html[theme=dark],\n",
       "body.vscode-dark {\n",
       "  --xr-font-color0: rgba(255, 255, 255, 1);\n",
       "  --xr-font-color2: rgba(255, 255, 255, 0.54);\n",
       "  --xr-font-color3: rgba(255, 255, 255, 0.38);\n",
       "  --xr-border-color: #1F1F1F;\n",
       "  --xr-disabled-color: #515151;\n",
       "  --xr-background-color: #111111;\n",
       "  --xr-background-color-row-even: #111111;\n",
       "  --xr-background-color-row-odd: #313131;\n",
       "}\n",
       "\n",
       ".xr-wrap {\n",
       "  display: block;\n",
       "  min-width: 300px;\n",
       "  max-width: 700px;\n",
       "}\n",
       "\n",
       ".xr-text-repr-fallback {\n",
       "  /* fallback to plain text repr when CSS is not injected (untrusted notebook) */\n",
       "  display: none;\n",
       "}\n",
       "\n",
       ".xr-header {\n",
       "  padding-top: 6px;\n",
       "  padding-bottom: 6px;\n",
       "  margin-bottom: 4px;\n",
       "  border-bottom: solid 1px var(--xr-border-color);\n",
       "}\n",
       "\n",
       ".xr-header > div,\n",
       ".xr-header > ul {\n",
       "  display: inline;\n",
       "  margin-top: 0;\n",
       "  margin-bottom: 0;\n",
       "}\n",
       "\n",
       ".xr-obj-type,\n",
       ".xr-array-name {\n",
       "  margin-left: 2px;\n",
       "  margin-right: 10px;\n",
       "}\n",
       "\n",
       ".xr-obj-type {\n",
       "  color: var(--xr-font-color2);\n",
       "}\n",
       "\n",
       ".xr-sections {\n",
       "  padding-left: 0 !important;\n",
       "  display: grid;\n",
       "  grid-template-columns: 150px auto auto 1fr 20px 20px;\n",
       "}\n",
       "\n",
       ".xr-section-item {\n",
       "  display: contents;\n",
       "}\n",
       "\n",
       ".xr-section-item input {\n",
       "  display: none;\n",
       "}\n",
       "\n",
       ".xr-section-item input + label {\n",
       "  color: var(--xr-disabled-color);\n",
       "}\n",
       "\n",
       ".xr-section-item input:enabled + label {\n",
       "  cursor: pointer;\n",
       "  color: var(--xr-font-color2);\n",
       "}\n",
       "\n",
       ".xr-section-item input:enabled + label:hover {\n",
       "  color: var(--xr-font-color0);\n",
       "}\n",
       "\n",
       ".xr-section-summary {\n",
       "  grid-column: 1;\n",
       "  color: var(--xr-font-color2);\n",
       "  font-weight: 500;\n",
       "}\n",
       "\n",
       ".xr-section-summary > span {\n",
       "  display: inline-block;\n",
       "  padding-left: 0.5em;\n",
       "}\n",
       "\n",
       ".xr-section-summary-in:disabled + label {\n",
       "  color: var(--xr-font-color2);\n",
       "}\n",
       "\n",
       ".xr-section-summary-in + label:before {\n",
       "  display: inline-block;\n",
       "  content: '►';\n",
       "  font-size: 11px;\n",
       "  width: 15px;\n",
       "  text-align: center;\n",
       "}\n",
       "\n",
       ".xr-section-summary-in:disabled + label:before {\n",
       "  color: var(--xr-disabled-color);\n",
       "}\n",
       "\n",
       ".xr-section-summary-in:checked + label:before {\n",
       "  content: '▼';\n",
       "}\n",
       "\n",
       ".xr-section-summary-in:checked + label > span {\n",
       "  display: none;\n",
       "}\n",
       "\n",
       ".xr-section-summary,\n",
       ".xr-section-inline-details {\n",
       "  padding-top: 4px;\n",
       "  padding-bottom: 4px;\n",
       "}\n",
       "\n",
       ".xr-section-inline-details {\n",
       "  grid-column: 2 / -1;\n",
       "}\n",
       "\n",
       ".xr-section-details {\n",
       "  display: none;\n",
       "  grid-column: 1 / -1;\n",
       "  margin-bottom: 5px;\n",
       "}\n",
       "\n",
       ".xr-section-summary-in:checked ~ .xr-section-details {\n",
       "  display: contents;\n",
       "}\n",
       "\n",
       ".xr-array-wrap {\n",
       "  grid-column: 1 / -1;\n",
       "  display: grid;\n",
       "  grid-template-columns: 20px auto;\n",
       "}\n",
       "\n",
       ".xr-array-wrap > label {\n",
       "  grid-column: 1;\n",
       "  vertical-align: top;\n",
       "}\n",
       "\n",
       ".xr-preview {\n",
       "  color: var(--xr-font-color3);\n",
       "}\n",
       "\n",
       ".xr-array-preview,\n",
       ".xr-array-data {\n",
       "  padding: 0 5px !important;\n",
       "  grid-column: 2;\n",
       "}\n",
       "\n",
       ".xr-array-data,\n",
       ".xr-array-in:checked ~ .xr-array-preview {\n",
       "  display: none;\n",
       "}\n",
       "\n",
       ".xr-array-in:checked ~ .xr-array-data,\n",
       ".xr-array-preview {\n",
       "  display: inline-block;\n",
       "}\n",
       "\n",
       ".xr-dim-list {\n",
       "  display: inline-block !important;\n",
       "  list-style: none;\n",
       "  padding: 0 !important;\n",
       "  margin: 0;\n",
       "}\n",
       "\n",
       ".xr-dim-list li {\n",
       "  display: inline-block;\n",
       "  padding: 0;\n",
       "  margin: 0;\n",
       "}\n",
       "\n",
       ".xr-dim-list:before {\n",
       "  content: '(';\n",
       "}\n",
       "\n",
       ".xr-dim-list:after {\n",
       "  content: ')';\n",
       "}\n",
       "\n",
       ".xr-dim-list li:not(:last-child):after {\n",
       "  content: ',';\n",
       "  padding-right: 5px;\n",
       "}\n",
       "\n",
       ".xr-has-index {\n",
       "  font-weight: bold;\n",
       "}\n",
       "\n",
       ".xr-var-list,\n",
       ".xr-var-item {\n",
       "  display: contents;\n",
       "}\n",
       "\n",
       ".xr-var-item > div,\n",
       ".xr-var-item label,\n",
       ".xr-var-item > .xr-var-name span {\n",
       "  background-color: var(--xr-background-color-row-even);\n",
       "  margin-bottom: 0;\n",
       "}\n",
       "\n",
       ".xr-var-item > .xr-var-name:hover span {\n",
       "  padding-right: 5px;\n",
       "}\n",
       "\n",
       ".xr-var-list > li:nth-child(odd) > div,\n",
       ".xr-var-list > li:nth-child(odd) > label,\n",
       ".xr-var-list > li:nth-child(odd) > .xr-var-name span {\n",
       "  background-color: var(--xr-background-color-row-odd);\n",
       "}\n",
       "\n",
       ".xr-var-name {\n",
       "  grid-column: 1;\n",
       "}\n",
       "\n",
       ".xr-var-dims {\n",
       "  grid-column: 2;\n",
       "}\n",
       "\n",
       ".xr-var-dtype {\n",
       "  grid-column: 3;\n",
       "  text-align: right;\n",
       "  color: var(--xr-font-color2);\n",
       "}\n",
       "\n",
       ".xr-var-preview {\n",
       "  grid-column: 4;\n",
       "}\n",
       "\n",
       ".xr-var-name,\n",
       ".xr-var-dims,\n",
       ".xr-var-dtype,\n",
       ".xr-preview,\n",
       ".xr-attrs dt {\n",
       "  white-space: nowrap;\n",
       "  overflow: hidden;\n",
       "  text-overflow: ellipsis;\n",
       "  padding-right: 10px;\n",
       "}\n",
       "\n",
       ".xr-var-name:hover,\n",
       ".xr-var-dims:hover,\n",
       ".xr-var-dtype:hover,\n",
       ".xr-attrs dt:hover {\n",
       "  overflow: visible;\n",
       "  width: auto;\n",
       "  z-index: 1;\n",
       "}\n",
       "\n",
       ".xr-var-attrs,\n",
       ".xr-var-data {\n",
       "  display: none;\n",
       "  background-color: var(--xr-background-color) !important;\n",
       "  padding-bottom: 5px !important;\n",
       "}\n",
       "\n",
       ".xr-var-attrs-in:checked ~ .xr-var-attrs,\n",
       ".xr-var-data-in:checked ~ .xr-var-data {\n",
       "  display: block;\n",
       "}\n",
       "\n",
       ".xr-var-data > table {\n",
       "  float: right;\n",
       "}\n",
       "\n",
       ".xr-var-name span,\n",
       ".xr-var-data,\n",
       ".xr-attrs {\n",
       "  padding-left: 25px !important;\n",
       "}\n",
       "\n",
       ".xr-attrs,\n",
       ".xr-var-attrs,\n",
       ".xr-var-data {\n",
       "  grid-column: 1 / -1;\n",
       "}\n",
       "\n",
       "dl.xr-attrs {\n",
       "  padding: 0;\n",
       "  margin: 0;\n",
       "  display: grid;\n",
       "  grid-template-columns: 125px auto;\n",
       "}\n",
       "\n",
       ".xr-attrs dt,\n",
       ".xr-attrs dd {\n",
       "  padding: 0;\n",
       "  margin: 0;\n",
       "  float: left;\n",
       "  padding-right: 10px;\n",
       "  width: auto;\n",
       "}\n",
       "\n",
       ".xr-attrs dt {\n",
       "  font-weight: normal;\n",
       "  grid-column: 1;\n",
       "}\n",
       "\n",
       ".xr-attrs dt:hover span {\n",
       "  display: inline-block;\n",
       "  background: var(--xr-background-color);\n",
       "  padding-right: 10px;\n",
       "}\n",
       "\n",
       ".xr-attrs dd {\n",
       "  grid-column: 2;\n",
       "  white-space: pre-wrap;\n",
       "  word-break: break-all;\n",
       "}\n",
       "\n",
       ".xr-icon-database,\n",
       ".xr-icon-file-text2 {\n",
       "  display: inline-block;\n",
       "  vertical-align: middle;\n",
       "  width: 1em;\n",
       "  height: 1.5em !important;\n",
       "  stroke-width: 0;\n",
       "  stroke: currentColor;\n",
       "  fill: currentColor;\n",
       "}\n",
       "</style><pre class='xr-text-repr-fallback'>&lt;xarray.DataArray &#x27;pre&#x27; (time: 1440, lat: 360, lon: 720)&gt;\n",
       "[373248000 values with dtype=float32]\n",
       "Coordinates:\n",
       "  * lon      (lon) float32 -179.8 -179.2 -178.8 -178.2 ... 178.8 179.2 179.8\n",
       "  * lat      (lat) float32 -89.75 -89.25 -88.75 -88.25 ... 88.75 89.25 89.75\n",
       "  * time     (time) datetime64[ns] 1901-01-16 1901-02-15 ... 2020-12-16\n",
       "Attributes:\n",
       "    long_name:                   precipitation\n",
       "    units:                       mm/month\n",
       "    correlation_decay_distance:  450.0</pre><div class='xr-wrap' hidden><div class='xr-header'><div class='xr-obj-type'>xarray.DataArray</div><div class='xr-array-name'>'pre'</div><ul class='xr-dim-list'><li><span class='xr-has-index'>time</span>: 1440</li><li><span class='xr-has-index'>lat</span>: 360</li><li><span class='xr-has-index'>lon</span>: 720</li></ul></div><ul class='xr-sections'><li class='xr-section-item'><div class='xr-array-wrap'><input id='section-e07d1628-db18-4275-8c01-fe8dfe0a35dc' class='xr-array-in' type='checkbox' checked><label for='section-e07d1628-db18-4275-8c01-fe8dfe0a35dc' title='Show/hide data repr'><svg class='icon xr-icon-database'><use xlink:href='#icon-database'></use></svg></label><div class='xr-array-preview xr-preview'><span>...</span></div><div class='xr-array-data'><pre>[373248000 values with dtype=float32]</pre></div></div></li><li class='xr-section-item'><input id='section-11f7050c-9d4b-4442-83c6-aac3413d3b54' class='xr-section-summary-in' type='checkbox'  checked><label for='section-11f7050c-9d4b-4442-83c6-aac3413d3b54' class='xr-section-summary' >Coordinates: <span>(3)</span></label><div class='xr-section-inline-details'></div><div class='xr-section-details'><ul class='xr-var-list'><li class='xr-var-item'><div class='xr-var-name'><span class='xr-has-index'>lon</span></div><div class='xr-var-dims'>(lon)</div><div class='xr-var-dtype'>float32</div><div class='xr-var-preview xr-preview'>-179.8 -179.2 ... 179.2 179.8</div><input id='attrs-3c100a28-c87c-49dc-8ae2-709ff30a1922' class='xr-var-attrs-in' type='checkbox' ><label for='attrs-3c100a28-c87c-49dc-8ae2-709ff30a1922' title='Show/Hide attributes'><svg class='icon xr-icon-file-text2'><use xlink:href='#icon-file-text2'></use></svg></label><input id='data-483cc8ea-c8f0-4e41-9b09-ae9fb4b7bb27' class='xr-var-data-in' type='checkbox'><label for='data-483cc8ea-c8f0-4e41-9b09-ae9fb4b7bb27' title='Show/Hide data repr'><svg class='icon xr-icon-database'><use xlink:href='#icon-database'></use></svg></label><div class='xr-var-attrs'><dl class='xr-attrs'><dt><span>long_name :</span></dt><dd>longitude</dd><dt><span>units :</span></dt><dd>degrees_east</dd></dl></div><div class='xr-var-data'><pre>array([-179.75, -179.25, -178.75, ...,  178.75,  179.25,  179.75],\n",
       "      dtype=float32)</pre></div></li><li class='xr-var-item'><div class='xr-var-name'><span class='xr-has-index'>lat</span></div><div class='xr-var-dims'>(lat)</div><div class='xr-var-dtype'>float32</div><div class='xr-var-preview xr-preview'>-89.75 -89.25 ... 89.25 89.75</div><input id='attrs-114585f3-1da9-4228-86f8-8f41922471f2' class='xr-var-attrs-in' type='checkbox' ><label for='attrs-114585f3-1da9-4228-86f8-8f41922471f2' title='Show/Hide attributes'><svg class='icon xr-icon-file-text2'><use xlink:href='#icon-file-text2'></use></svg></label><input id='data-ac28ce30-ab4a-4935-983b-b9047f46e7a1' class='xr-var-data-in' type='checkbox'><label for='data-ac28ce30-ab4a-4935-983b-b9047f46e7a1' title='Show/Hide data repr'><svg class='icon xr-icon-database'><use xlink:href='#icon-database'></use></svg></label><div class='xr-var-attrs'><dl class='xr-attrs'><dt><span>long_name :</span></dt><dd>latitude</dd><dt><span>units :</span></dt><dd>degrees_north</dd></dl></div><div class='xr-var-data'><pre>array([-89.75, -89.25, -88.75, ...,  88.75,  89.25,  89.75], dtype=float32)</pre></div></li><li class='xr-var-item'><div class='xr-var-name'><span class='xr-has-index'>time</span></div><div class='xr-var-dims'>(time)</div><div class='xr-var-dtype'>datetime64[ns]</div><div class='xr-var-preview xr-preview'>1901-01-16 ... 2020-12-16</div><input id='attrs-c8fe0003-82b2-42d2-b7d0-aed13cbc18fa' class='xr-var-attrs-in' type='checkbox' ><label for='attrs-c8fe0003-82b2-42d2-b7d0-aed13cbc18fa' title='Show/Hide attributes'><svg class='icon xr-icon-file-text2'><use xlink:href='#icon-file-text2'></use></svg></label><input id='data-a283e523-4df7-414b-bd1a-997e68e776e5' class='xr-var-data-in' type='checkbox'><label for='data-a283e523-4df7-414b-bd1a-997e68e776e5' title='Show/Hide data repr'><svg class='icon xr-icon-database'><use xlink:href='#icon-database'></use></svg></label><div class='xr-var-attrs'><dl class='xr-attrs'><dt><span>long_name :</span></dt><dd>time</dd></dl></div><div class='xr-var-data'><pre>array([&#x27;1901-01-16T00:00:00.000000000&#x27;, &#x27;1901-02-15T00:00:00.000000000&#x27;,\n",
       "       &#x27;1901-03-16T00:00:00.000000000&#x27;, ..., &#x27;2020-10-16T00:00:00.000000000&#x27;,\n",
       "       &#x27;2020-11-16T00:00:00.000000000&#x27;, &#x27;2020-12-16T00:00:00.000000000&#x27;],\n",
       "      dtype=&#x27;datetime64[ns]&#x27;)</pre></div></li></ul></div></li><li class='xr-section-item'><input id='section-311e25ce-1a53-40cf-8129-ed0881259313' class='xr-section-summary-in' type='checkbox'  checked><label for='section-311e25ce-1a53-40cf-8129-ed0881259313' class='xr-section-summary' >Attributes: <span>(3)</span></label><div class='xr-section-inline-details'></div><div class='xr-section-details'><dl class='xr-attrs'><dt><span>long_name :</span></dt><dd>precipitation</dd><dt><span>units :</span></dt><dd>mm/month</dd><dt><span>correlation_decay_distance :</span></dt><dd>450.0</dd></dl></div></li></ul></div></div>"
      ],
      "text/plain": [
       "<xarray.DataArray 'pre' (time: 1440, lat: 360, lon: 720)>\n",
       "[373248000 values with dtype=float32]\n",
       "Coordinates:\n",
       "  * lon      (lon) float32 -179.8 -179.2 -178.8 -178.2 ... 178.8 179.2 179.8\n",
       "  * lat      (lat) float32 -89.75 -89.25 -88.75 -88.25 ... 88.75 89.25 89.75\n",
       "  * time     (time) datetime64[ns] 1901-01-16 1901-02-15 ... 2020-12-16\n",
       "Attributes:\n",
       "    long_name:                   precipitation\n",
       "    units:                       mm/month\n",
       "    correlation_decay_distance:  450.0"
      ]
     },
     "execution_count": 68,
     "metadata": {},
     "output_type": "execute_result"
    }
   ],
   "source": [
    "ds5 "
   ]
  },
  {
   "cell_type": "code",
   "execution_count": 69,
   "id": "activated-installation",
   "metadata": {},
   "outputs": [],
   "source": [
    "dsList=[field3,field4,field5]\n",
    "modelList=[model3,model4,model5]"
   ]
  },
  {
   "cell_type": "code",
   "execution_count": 70,
   "id": "vocal-reservation",
   "metadata": {},
   "outputs": [
    {
     "name": "stdout",
     "output_type": "stream",
     "text": [
      "(D- 1951  JF- 1952  to D- 2014 JF- 2015\n",
      "(D- 1951  JF- 1952  to D- 2014 JF- 2015\n",
      "(D- 1951  JF- 1952  to D- 2014 JF- 2015\n"
     ]
    }
   ],
   "source": [
    "valsList=[]\n",
    "anomsList=[]\n",
    "\n",
    "for elem in dsList:\n",
    "    if season[0]=='m':\n",
    "        rmon=int(season.split('mon')[1])\n",
    "        vals,anoms=climb.monthly_selection(elem,rmon,iyr,fyr)\n",
    "    else:\n",
    "        vals,anoms=climb.seasonal_selection(elem,season,iyr,fyr)\n",
    "    valsList.append(vals)\n",
    "    anomsList.append(anoms)"
   ]
  },
  {
   "cell_type": "code",
   "execution_count": 71,
   "id": "electrical-customer",
   "metadata": {},
   "outputs": [],
   "source": [
    "climList=[]\n",
    "stdList=[]\n",
    "for elem in valsList:\n",
    "    c=elem.mean('time')\n",
    "    s=elem.std('time')\n",
    "    climList.append(c)\n",
    "    stdList.append(s)"
   ]
  },
  {
   "cell_type": "code",
   "execution_count": 72,
   "id": "48e4ae8b",
   "metadata": {},
   "outputs": [
    {
     "name": "stdout",
     "output_type": "stream",
     "text": [
      "0-label 1- units 2-levels 3-cmap 4-extend 5-levels_diff 6-cmap_diff 7-extend_diff 8-levels_std 9-cmap_std 10-extend_std\n"
     ]
    }
   ],
   "source": [
    "##Plotting\n",
    "###\n",
    "infoplot=myplot.get_var_infos(variable)\n",
    "cmapClim=infoplot.get('cmap')\n",
    "units=infoplot.get('units')\n",
    "clevsClim= np.arange(0,5.25,0.25)#infoplot.get('levels')\n",
    "\n",
    "cmapStd=infoplot.get('cmap_std')\n",
    "clevsStd=np.arange(0,40,5)#infoplot.get('levels_std')\n",
    "\n",
    "clevsT=np.arange(-0.5,0.55,0.05)#infoplot.get('levels_diff')\n",
    "cmapT=infoplot.get('cmap_diff')\n",
    "\n",
    "clevsRatio=np.arange(0,1.1,0.1)\n",
    "cmapRatio='OrRd'\n",
    "\n",
    "extend=infoplot.get('extend')\n",
    "extentTF=False\n"
   ]
  },
  {
   "cell_type": "code",
   "execution_count": 73,
   "id": "b832fdc9",
   "metadata": {},
   "outputs": [
    {
     "name": "stdout",
     "output_type": "stream",
     "text": [
      "Figure save at  /home/msantolaria/Documents/MyResearch/AnalysisObservations/Plots/ as clim_pr_aphro_obs_TP_DJF_1951_2015\n"
     ]
    },
    {
     "data": {
      "image/png": "[encoded data removed]",
      "text/plain": [
       "<Figure size 576x720 with 2 Axes>"
      ]
     },
     "metadata": {
      "needs_background": "light"
     },
     "output_type": "display_data"
    },
    {
     "name": "stdout",
     "output_type": "stream",
     "text": [
      "Figure save at  /home/msantolaria/Documents/MyResearch/AnalysisObservations/Plots/ as clim_pr_gpcc_obs_TP_DJF_1951_2015\n"
     ]
    },
    {
     "data": {
      "image/png": "[encoded data removed]",
      "text/plain": [
       "<Figure size 576x720 with 2 Axes>"
      ]
     },
     "metadata": {
      "needs_background": "light"
     },
     "output_type": "display_data"
    },
    {
     "name": "stdout",
     "output_type": "stream",
     "text": [
      "Figure save at  /home/msantolaria/Documents/MyResearch/AnalysisObservations/Plots/ as clim_pr_cru_obs_TP_DJF_1951_2015\n"
     ]
    },
    {
     "data": {
      "image/png": "[encoded data removed]",
      "text/plain": [
       "<Figure size 576x720 with 2 Axes>"
      ]
     },
     "metadata": {
      "needs_background": "light"
     },
     "output_type": "display_data"
    }
   ],
   "source": [
    "for i,clim in enumerate(climList):\n",
    "##Clim\n",
    "##\n",
    "    latS,latN,lonW,lonE,latlim,lonlim=dom.coord_domain(domain)\n",
    "\n",
    "    fig,axs= plt.subplots(subplot_kw={'projection': ccrs.PlateCarree()},figsize=(8,10))\n",
    "    lat,lon=climb.latlon(clim)\n",
    "    lons, lats = np.meshgrid(clim[lon] ,clim[lat])\n",
    "    CS1=axs.contourf(lons,lats, clim,clevsClim,\n",
    "            transform=ccrs.PlateCarree(),\n",
    "            cmap=cmapClim,extent='both')\n",
    "# Draw the coastines for each subplot\n",
    "    axs.coastlines()\n",
    "    axs.add_feature(cfeature.BORDERS, linestyle=':', alpha=1)\n",
    "#axs.add_feature(cfeature.NaturalEarthFeature('physical', 'ocean', '50m', edgecolor='None', facecolor='None'))\n",
    "    if extentTF==True:\n",
    "        axs.set_extent([lonW, lonE, latS,latN])\n",
    "    # Longitude and latitude labels\n",
    "# Adjust the location of the subplots on the page to make room for the colorbar\n",
    "    fig.subplots_adjust(bottom=0.35, top=0.7, left=0.20, right=0.80,\n",
    "                wspace=0.05, hspace=0.5)\n",
    "# Add a colorbar axis at the bottom of the graph\n",
    "#([xmin,ymin,dx,dy])\n",
    "    cbar_ax = fig.add_axes([0.2, 0.35, 0.6, 0.02])\n",
    "# Draw the colorbar\n",
    "    cbar=fig.colorbar(CS1, cax=cbar_ax,orientation='horizontal',label='%s'%(units))\n",
    "## Add a big title at the top\n",
    "    ofileC='clim_'+variable+'_'+modelList[i]+'_'+exp+'_'+domain+'_'+season+'_'+str(iyr)+'_'+str(fyr)\n",
    "    plt.suptitle(ofileC,y=0.68)\n",
    "    fig.savefig(plotsDir+ofileC+'.png',format='png')\n",
    "    print('Figure save at ',plotsDir, 'as',ofileC)\n",
    "    plt.show()\n"
   ]
  },
  {
   "cell_type": "code",
   "execution_count": 74,
   "id": "physical-hudson",
   "metadata": {},
   "outputs": [],
   "source": [
    "#climList[1].plot()"
   ]
  },
  {
   "cell_type": "code",
   "execution_count": 75,
   "id": "pacific-transport",
   "metadata": {},
   "outputs": [
    {
     "name": "stdout",
     "output_type": "stream",
     "text": [
      "trend-0 intercept-1 rvalue-2 pvalue-3 stderr-4\n",
      "trend-0 intercept-1 rvalue-2 pvalue-3 stderr-4\n",
      "trend-0 intercept-1 rvalue-2 pvalue-3 stderr-4\n"
     ]
    }
   ],
   "source": [
    "parList=[]\n",
    "trendList=[]\n",
    "interceptList=[]\n",
    "rvalueList=[]\n",
    "pvalueList=[]\n",
    "stderrList=[]\n",
    "#---------------------------------------------------------\n",
    "for elem in anomsList:\n",
    "    par=climb.trend_vect(elem.time,elem,'time')\n",
    "    parList.append(par)\n",
    "    trendList.append(par[0])\n",
    "    interceptList.append(par[1])\n",
    "    rvalueList.append(par[2])\n",
    "    pvalueList.append(par[3])\n",
    "    stderrList.append(par[4])\n"
   ]
  },
  {
   "cell_type": "code",
   "execution_count": 76,
   "id": "pediatric-prototype",
   "metadata": {},
   "outputs": [
    {
     "name": "stdout",
     "output_type": "stream",
     "text": [
      "Figure save at  /home/msantolaria/Documents/MyResearch/AnalysisObservations/Plots/ as spatialtrend_pr_aphro_obs_TP_DJF_1951_2015\n"
     ]
    },
    {
     "data": {
      "image/png": "[encoded data removed]",
      "text/plain": [
       "<Figure size 576x720 with 2 Axes>"
      ]
     },
     "metadata": {
      "needs_background": "light"
     },
     "output_type": "display_data"
    },
    {
     "name": "stdout",
     "output_type": "stream",
     "text": [
      "Figure save at  /home/msantolaria/Documents/MyResearch/AnalysisObservations/Plots/ as spatialtrend_pr_gpcc_obs_TP_DJF_1951_2015\n"
     ]
    },
    {
     "data": {
      "image/png": "[encoded data removed]",
      "text/plain": [
       "<Figure size 576x720 with 2 Axes>"
      ]
     },
     "metadata": {
      "needs_background": "light"
     },
     "output_type": "display_data"
    },
    {
     "name": "stdout",
     "output_type": "stream",
     "text": [
      "Figure save at  /home/msantolaria/Documents/MyResearch/AnalysisObservations/Plots/ as spatialtrend_pr_cru_obs_TP_DJF_1951_2015\n"
     ]
    },
    {
     "data": {
      "image/png": "[encoded data removed]",
      "text/plain": [
       "<Figure size 576x720 with 2 Axes>"
      ]
     },
     "metadata": {
      "needs_background": "light"
     },
     "output_type": "display_data"
    }
   ],
   "source": [
    "for i,par in enumerate(parList):\n",
    "##\n",
    "##Spatial trend\n",
    "###\n",
    "    fig,axs= plt.subplots(subplot_kw={'projection': ccrs.PlateCarree()},figsize=(8,10))\n",
    "\n",
    "    lat,lon=climb.latlon(par[0])\n",
    "    lons, lats = np.meshgrid(par[0][lon] ,par[0][lat])\n",
    "    CS1=axs.contourf(lons,lats, 10*par[0][:,:],clevsT,\n",
    "                transform=ccrs.PlateCarree(),\n",
    "                cmap=cmapT,extent='both')\n",
    "    levels=[0,0.1,1.0]\n",
    "    cs = axs.contourf(lons,lats,par[3][:,:], transform=ccrs.PlateCarree(),levels=levels,\n",
    "                hatches=[\"+\", \"\"], alpha=0.)\n",
    "\n",
    "# Draw the coastines for each subplot\n",
    "    axs.coastlines()\n",
    "    axs.add_feature(cfeature.BORDERS, linestyle=':', alpha=1)\n",
    "#axs.add_feature(cfeature.NaturalEarthFeature('physical', 'ocean', '50m', edgecolor='None', facecolor='None'))\n",
    "    if extentTF==True:\n",
    "        axs.set_extent([lonW, lonE, latS,latN])\n",
    "    # Longitude and latitude labels\n",
    "# Adjust the location of the subplots on the page to make room for the colorbar\n",
    "    fig.subplots_adjust(bottom=0.35, top=0.7, left=0.20, right=0.80,\n",
    "                wspace=0.05, hspace=0.5)\n",
    "# Add a colorbar axis at the bottom of the graph\n",
    "#([xmin,ymin,dx,dy])\n",
    "    cbar_ax = fig.add_axes([0.2, 0.35, 0.6, 0.02])\n",
    "# Draw the colorbar\n",
    "    cbar=fig.colorbar(CS1, cax=cbar_ax,orientation='horizontal',label='%s/dec'%(units))\n",
    "## Add a big title at the top\n",
    "    ofileT='spatialtrend_'+variable+'_'+modelList[i]+'_'+exp+'_'+domain+'_'+season+'_'+str(iyr)+'_'+str(fyr)\n",
    "    plt.suptitle(ofileT,y=0.68)\n",
    "    fig.savefig(plotsDir+ofileT+'.png',format='png')\n",
    "    print('Figure save at ',plotsDir, 'as',ofileT)\n",
    "    plt.show()\n"
   ]
  },
  {
   "cell_type": "code",
   "execution_count": 77,
   "id": "better-capture",
   "metadata": {},
   "outputs": [
    {
     "name": "stdout",
     "output_type": "stream",
     "text": [
      "Computing time series of seasonal spatial average\n"
     ]
    }
   ],
   "source": [
    "##Computing time series of seasonal spatial average ----------------------------\n",
    "print('Computing time series of seasonal spatial average')\n",
    "ts_seasonList=[]\n",
    "for i,anoms in enumerate(anomsList):\n",
    "    ts_season=climb.spatial_average(anoms)\n",
    "    ts_seasonList.append(ts_season)\n",
    "    plotnameTs='timeseries_anoms_'+variable+'_'+modelList[i]+'_'+exp+'_'+domain+'_'+season+'_'+str(iyr)+'_'+str(fyr)\n",
    "    np.savetxt(resultsDir+plotnameTs+'.txt',ts_season)\n",
    "#print('saving .txt at',resultsDir+plotnameTs)\n"
   ]
  },
  {
   "cell_type": "code",
   "execution_count": 78,
   "id": "710a3059",
   "metadata": {},
   "outputs": [
    {
     "name": "stdout",
     "output_type": "stream",
     "text": [
      "[ 0  1  2  3  4  5  6  7  8  9 10 11 12 13 14 15 16 17 18 19 20 21 22 23\n",
      " 24 25 26 27 28 29 30 31 32 33 34 35 36 37 38 39 40 41 42 43 44 45 46 47\n",
      " 48 49 50 51 52 53 54 55 56 57 58 59 60 61 62 63] [1951 1952 1953 1954 1955 1956 1957 1958 1959 1960 1961 1962 1963 1964\n",
      " 1965 1966 1967 1968 1969 1970 1971 1972 1973 1974 1975 1976 1977 1978\n",
      " 1979 1980 1981 1982 1983 1984 1985 1986 1987 1988 1989 1990 1991 1992\n",
      " 1993 1994 1995 1996 1997 1998 1999 2000 2001 2002 2003 2004 2005 2006\n",
      " 2007 2008 2009 2010 2011 2012 2013 2014]\n"
     ]
    },
    {
     "data": {
      "image/png": "[encoded data removed]",
      "text/plain": [
       "<Figure size 864x576 with 1 Axes>"
      ]
     },
     "metadata": {
      "needs_background": "light"
     },
     "output_type": "display_data"
    }
   ],
   "source": [
    "xd=np.arange(0,len(ts_season),1)\n",
    "\n",
    "fig, ax = plt.subplots(figsize=(12, 8))\n",
    "my_ticks=xd+iyr\n",
    "print(xd,my_ticks)\n",
    "ticks=np.arange(iyr,fyr+1,1)\n",
    "#ax.plot(xd,ts_season,color='b', linewidth=2)\n",
    "ax.plot(xd, ts_seasonList[0], 'b:',label=modelList[0])\n",
    "ax.plot(xd, ts_seasonList[1], 'r:',label=modelList[1])\n",
    "ax.plot(xd, ts_seasonList[2], 'g:',label=modelList[2])\n",
    "#ax.plot(xd, parmed[1] + parmed[0] * xd, 'r-',label=\"%s (%.2f)\" % ('Theil-Sen', 10*parmed[0]))\n",
    "#ax.plot(xd, parmed[1] + parmed[2] * xd, 'r--')\n",
    "#ax.plot(xd, parmed[1] + parmed[3] * xd, 'r--')\n",
    "#ax.plot(xd, par[1] + par[0] * xd, 'b-',label=\"%s (%.2f);%s (%.2f)\" % ('Lin reg', 10*par[0],'p-val',par[3]))\n",
    "#ax.plot(xd, parmk[8] + parmk[7] * xd,'p-',label=\"%s (%.2f) sig %s\" % ('MK',i 10*parmk[7],parmk[0]))\n",
    "\n",
    "#ax.axhline(0, color='k')\n",
    "#ax.set_ylim(0, 3)\n",
    "ax.set_xlabel('Year')\n",
    "ax.set_ylabel('%s'%(units))\n",
    "ax.set_title(plotnameTs)\n",
    "freq=5\n",
    "plt.xticks(xd,my_ticks, rotation='vertical')\n",
    "plt.legend()\n",
    "#plt.savefig(plotsDir+plotnameTs+'.png',format='png')\n",
    "plt.show()\n"
   ]
  },
  {
   "cell_type": "code",
   "execution_count": null,
   "id": "3e399b56",
   "metadata": {},
   "outputs": [],
   "source": []
  },
  {
   "cell_type": "code",
   "execution_count": null,
   "id": "439ecea1",
   "metadata": {},
   "outputs": [],
   "source": []
  },
  {
   "cell_type": "code",
   "execution_count": null,
   "id": "a7a8ab3c",
   "metadata": {},
   "outputs": [],
   "source": []
  },
  {
   "cell_type": "code",
   "execution_count": null,
   "id": "3044ee6c",
   "metadata": {},
   "outputs": [],
   "source": []
  },
  {
   "cell_type": "code",
   "execution_count": null,
   "id": "8f40e84e",
   "metadata": {},
   "outputs": [],
   "source": []
  },
  {
   "cell_type": "code",
   "execution_count": null,
   "id": "7977cc5d",
   "metadata": {},
   "outputs": [],
   "source": []
  }
 ],
 "metadata": {
  "kernelspec": {
   "display_name": "Python 3 (ipykernel)",
   "language": "python",
   "name": "python3"
  },
  "language_info": {
   "codemirror_mode": {
    "name": "ipython",
    "version": 3
   },
   "file_extension": ".py",
   "mimetype": "text/x-python",
   "name": "python",
   "nbconvert_exporter": "python",
   "pygments_lexer": "ipython3",
   "version": "3.9.12"
  }
 },
 "nbformat": 4,
 "nbformat_minor": 5
}
